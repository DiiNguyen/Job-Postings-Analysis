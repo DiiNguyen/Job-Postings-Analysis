{
 "cells": [
  {
   "cell_type": "markdown",
   "metadata": {},
   "source": [
    "# Exploratory Data Analysis"
   ]
  },
  {
   "cell_type": "markdown",
   "metadata": {},
   "source": [
    "## Data Preprocessing"
   ]
  },
  {
   "cell_type": "code",
   "execution_count": 1,
   "metadata": {},
   "outputs": [],
   "source": [
    "# data preporcessing\n",
    "import ast\n",
    "import pandas as pd\n",
    "import seaborn as sns\n",
    "import matplotlib.pyplot as plt\n",
    "from datasets import load_dataset\n",
    "data = load_dataset('lukebarousse/data_jobs')\n",
    "df = data['train'].to_pandas()  "
   ]
  },
  {
   "cell_type": "code",
   "execution_count": 2,
   "metadata": {},
   "outputs": [],
   "source": [
    "df['job_posted_date'] = pd.to_datetime(df['job_posted_date'])\n",
    "df['job_posted_month'] = df['job_posted_date'].dt.month"
   ]
  },
  {
   "cell_type": "code",
   "execution_count": 3,
   "metadata": {},
   "outputs": [],
   "source": [
    "df['job_skills'] = df['job_skills'].apply(lambda x: ast.literal_eval(x) if pd.notna(x) else x)"
   ]
  },
  {
   "cell_type": "code",
   "execution_count": 4,
   "metadata": {},
   "outputs": [
    {
     "data": {
      "application/vnd.microsoft.datawrangler.viewer.v0+json": {
       "columns": [
        {
         "name": "index",
         "rawType": "int64",
         "type": "integer"
        },
        {
         "name": "job_title_short",
         "rawType": "object",
         "type": "string"
        },
        {
         "name": "job_title",
         "rawType": "object",
         "type": "string"
        },
        {
         "name": "job_location",
         "rawType": "object",
         "type": "string"
        },
        {
         "name": "job_via",
         "rawType": "object",
         "type": "string"
        },
        {
         "name": "job_schedule_type",
         "rawType": "object",
         "type": "string"
        },
        {
         "name": "job_work_from_home",
         "rawType": "bool",
         "type": "boolean"
        },
        {
         "name": "search_location",
         "rawType": "object",
         "type": "string"
        },
        {
         "name": "job_posted_date",
         "rawType": "datetime64[ns]",
         "type": "datetime"
        },
        {
         "name": "job_no_degree_mention",
         "rawType": "bool",
         "type": "boolean"
        },
        {
         "name": "job_health_insurance",
         "rawType": "bool",
         "type": "boolean"
        },
        {
         "name": "job_country",
         "rawType": "object",
         "type": "string"
        },
        {
         "name": "salary_rate",
         "rawType": "object",
         "type": "unknown"
        },
        {
         "name": "salary_year_avg",
         "rawType": "float64",
         "type": "float"
        },
        {
         "name": "salary_hour_avg",
         "rawType": "float64",
         "type": "float"
        },
        {
         "name": "company_name",
         "rawType": "object",
         "type": "string"
        },
        {
         "name": "job_skills",
         "rawType": "object",
         "type": "unknown"
        },
        {
         "name": "job_type_skills",
         "rawType": "object",
         "type": "unknown"
        },
        {
         "name": "job_posted_month",
         "rawType": "int32",
         "type": "integer"
        }
       ],
       "conversionMethod": "pd.DataFrame",
       "ref": "b17346ca-91d9-40c5-919e-69790364b6f4",
       "rows": [
        [
         "0",
         "Senior Data Engineer",
         "Senior Clinical Data Engineer / Principal Clinical Data Engineer ...",
         "Watertown, CT",
         "via Work Nearby",
         "Full-time",
         "False",
         "Texas, United States",
         "2023-06-16 13:44:15",
         "False",
         "False",
         "United States",
         null,
         null,
         null,
         "Boehringer Ingelheim",
         null,
         null,
         "6"
        ],
        [
         "1",
         "Data Analyst",
         "Data Analyst",
         "Guadalajara, Jalisco, Mexico",
         "via BeBee México",
         "Full-time",
         "False",
         "Mexico",
         "2023-01-14 13:18:07",
         "False",
         "False",
         "Mexico",
         null,
         null,
         null,
         "Hewlett Packard Enterprise",
         "['r', 'python', 'sql', 'nosql', 'power bi', 'tableau']",
         "{'analyst_tools': ['power bi', 'tableau'], 'programming': ['r', 'python', 'sql', 'nosql']}",
         "1"
        ],
        [
         "2",
         "Data Engineer",
         "Data Engineer/Scientist/Analyst, Mid or Senior (m/f/x)",
         "Berlin, Germany",
         "via LinkedIn",
         "Full-time",
         "False",
         "Germany",
         "2023-10-10 13:14:55",
         "False",
         "False",
         "Germany",
         null,
         null,
         null,
         "ALPHA Augmented Services",
         "['python', 'sql', 'c#', 'azure', 'airflow', 'dax', 'docker', 'kubernetes', 'jenkins']",
         "{'analyst_tools': ['dax'], 'cloud': ['azure'], 'libraries': ['airflow'], 'other': ['docker', 'kubernetes', 'jenkins'], 'programming': ['python', 'sql', 'c#']}",
         "10"
        ],
        [
         "3",
         "Data Engineer",
         "LEAD ENGINEER - PRINCIPAL ANALYST - PRINCIPAL ENGINEER -  DATA...",
         "San Antonio, TX",
         "via Diversity.com",
         "Full-time",
         "False",
         "Texas, United States",
         "2023-07-04 13:01:41",
         "True",
         "False",
         "United States",
         null,
         null,
         null,
         "Southwest Research Institute",
         "['python', 'c++', 'java', 'matlab', 'aws', 'tensorflow', 'keras', 'pytorch']",
         "{'cloud': ['aws'], 'libraries': ['tensorflow', 'keras', 'pytorch'], 'programming': ['python', 'c++', 'java', 'matlab']}",
         "7"
        ],
        [
         "4",
         "Data Engineer",
         "Data Engineer- Sr Jobs",
         "Washington, DC",
         "via Clearance Jobs",
         "Full-time",
         "False",
         "Sudan",
         "2023-08-07 14:29:36",
         "False",
         "False",
         "Sudan",
         null,
         null,
         null,
         "Kristina Daniel",
         "['bash', 'python', 'oracle', 'aws', 'ansible', 'puppet', 'jenkins', 'gitlab', 'git']",
         "{'cloud': ['oracle', 'aws'], 'other': ['ansible', 'puppet', 'jenkins', 'gitlab', 'git'], 'programming': ['bash', 'python']}",
         "8"
        ]
       ],
       "shape": {
        "columns": 18,
        "rows": 5
       }
      },
      "text/html": [
       "<div>\n",
       "<style scoped>\n",
       "    .dataframe tbody tr th:only-of-type {\n",
       "        vertical-align: middle;\n",
       "    }\n",
       "\n",
       "    .dataframe tbody tr th {\n",
       "        vertical-align: top;\n",
       "    }\n",
       "\n",
       "    .dataframe thead th {\n",
       "        text-align: right;\n",
       "    }\n",
       "</style>\n",
       "<table border=\"1\" class=\"dataframe\">\n",
       "  <thead>\n",
       "    <tr style=\"text-align: right;\">\n",
       "      <th></th>\n",
       "      <th>job_title_short</th>\n",
       "      <th>job_title</th>\n",
       "      <th>job_location</th>\n",
       "      <th>job_via</th>\n",
       "      <th>job_schedule_type</th>\n",
       "      <th>job_work_from_home</th>\n",
       "      <th>search_location</th>\n",
       "      <th>job_posted_date</th>\n",
       "      <th>job_no_degree_mention</th>\n",
       "      <th>job_health_insurance</th>\n",
       "      <th>job_country</th>\n",
       "      <th>salary_rate</th>\n",
       "      <th>salary_year_avg</th>\n",
       "      <th>salary_hour_avg</th>\n",
       "      <th>company_name</th>\n",
       "      <th>job_skills</th>\n",
       "      <th>job_type_skills</th>\n",
       "      <th>job_posted_month</th>\n",
       "    </tr>\n",
       "  </thead>\n",
       "  <tbody>\n",
       "    <tr>\n",
       "      <th>0</th>\n",
       "      <td>Senior Data Engineer</td>\n",
       "      <td>Senior Clinical Data Engineer / Principal Clin...</td>\n",
       "      <td>Watertown, CT</td>\n",
       "      <td>via Work Nearby</td>\n",
       "      <td>Full-time</td>\n",
       "      <td>False</td>\n",
       "      <td>Texas, United States</td>\n",
       "      <td>2023-06-16 13:44:15</td>\n",
       "      <td>False</td>\n",
       "      <td>False</td>\n",
       "      <td>United States</td>\n",
       "      <td>None</td>\n",
       "      <td>NaN</td>\n",
       "      <td>NaN</td>\n",
       "      <td>Boehringer Ingelheim</td>\n",
       "      <td>None</td>\n",
       "      <td>None</td>\n",
       "      <td>6</td>\n",
       "    </tr>\n",
       "    <tr>\n",
       "      <th>1</th>\n",
       "      <td>Data Analyst</td>\n",
       "      <td>Data Analyst</td>\n",
       "      <td>Guadalajara, Jalisco, Mexico</td>\n",
       "      <td>via BeBee México</td>\n",
       "      <td>Full-time</td>\n",
       "      <td>False</td>\n",
       "      <td>Mexico</td>\n",
       "      <td>2023-01-14 13:18:07</td>\n",
       "      <td>False</td>\n",
       "      <td>False</td>\n",
       "      <td>Mexico</td>\n",
       "      <td>None</td>\n",
       "      <td>NaN</td>\n",
       "      <td>NaN</td>\n",
       "      <td>Hewlett Packard Enterprise</td>\n",
       "      <td>[r, python, sql, nosql, power bi, tableau]</td>\n",
       "      <td>{'analyst_tools': ['power bi', 'tableau'], 'pr...</td>\n",
       "      <td>1</td>\n",
       "    </tr>\n",
       "    <tr>\n",
       "      <th>2</th>\n",
       "      <td>Data Engineer</td>\n",
       "      <td>Data Engineer/Scientist/Analyst, Mid or Senior...</td>\n",
       "      <td>Berlin, Germany</td>\n",
       "      <td>via LinkedIn</td>\n",
       "      <td>Full-time</td>\n",
       "      <td>False</td>\n",
       "      <td>Germany</td>\n",
       "      <td>2023-10-10 13:14:55</td>\n",
       "      <td>False</td>\n",
       "      <td>False</td>\n",
       "      <td>Germany</td>\n",
       "      <td>None</td>\n",
       "      <td>NaN</td>\n",
       "      <td>NaN</td>\n",
       "      <td>ALPHA Augmented Services</td>\n",
       "      <td>[python, sql, c#, azure, airflow, dax, docker,...</td>\n",
       "      <td>{'analyst_tools': ['dax'], 'cloud': ['azure'],...</td>\n",
       "      <td>10</td>\n",
       "    </tr>\n",
       "    <tr>\n",
       "      <th>3</th>\n",
       "      <td>Data Engineer</td>\n",
       "      <td>LEAD ENGINEER - PRINCIPAL ANALYST - PRINCIPAL ...</td>\n",
       "      <td>San Antonio, TX</td>\n",
       "      <td>via Diversity.com</td>\n",
       "      <td>Full-time</td>\n",
       "      <td>False</td>\n",
       "      <td>Texas, United States</td>\n",
       "      <td>2023-07-04 13:01:41</td>\n",
       "      <td>True</td>\n",
       "      <td>False</td>\n",
       "      <td>United States</td>\n",
       "      <td>None</td>\n",
       "      <td>NaN</td>\n",
       "      <td>NaN</td>\n",
       "      <td>Southwest Research Institute</td>\n",
       "      <td>[python, c++, java, matlab, aws, tensorflow, k...</td>\n",
       "      <td>{'cloud': ['aws'], 'libraries': ['tensorflow',...</td>\n",
       "      <td>7</td>\n",
       "    </tr>\n",
       "    <tr>\n",
       "      <th>4</th>\n",
       "      <td>Data Engineer</td>\n",
       "      <td>Data Engineer- Sr Jobs</td>\n",
       "      <td>Washington, DC</td>\n",
       "      <td>via Clearance Jobs</td>\n",
       "      <td>Full-time</td>\n",
       "      <td>False</td>\n",
       "      <td>Sudan</td>\n",
       "      <td>2023-08-07 14:29:36</td>\n",
       "      <td>False</td>\n",
       "      <td>False</td>\n",
       "      <td>Sudan</td>\n",
       "      <td>None</td>\n",
       "      <td>NaN</td>\n",
       "      <td>NaN</td>\n",
       "      <td>Kristina Daniel</td>\n",
       "      <td>[bash, python, oracle, aws, ansible, puppet, j...</td>\n",
       "      <td>{'cloud': ['oracle', 'aws'], 'other': ['ansibl...</td>\n",
       "      <td>8</td>\n",
       "    </tr>\n",
       "  </tbody>\n",
       "</table>\n",
       "</div>"
      ],
      "text/plain": [
       "        job_title_short                                          job_title  \\\n",
       "0  Senior Data Engineer  Senior Clinical Data Engineer / Principal Clin...   \n",
       "1          Data Analyst                                       Data Analyst   \n",
       "2         Data Engineer  Data Engineer/Scientist/Analyst, Mid or Senior...   \n",
       "3         Data Engineer  LEAD ENGINEER - PRINCIPAL ANALYST - PRINCIPAL ...   \n",
       "4         Data Engineer                             Data Engineer- Sr Jobs   \n",
       "\n",
       "                   job_location             job_via job_schedule_type  \\\n",
       "0                 Watertown, CT     via Work Nearby         Full-time   \n",
       "1  Guadalajara, Jalisco, Mexico    via BeBee México         Full-time   \n",
       "2               Berlin, Germany        via LinkedIn         Full-time   \n",
       "3               San Antonio, TX   via Diversity.com         Full-time   \n",
       "4                Washington, DC  via Clearance Jobs         Full-time   \n",
       "\n",
       "   job_work_from_home       search_location     job_posted_date  \\\n",
       "0               False  Texas, United States 2023-06-16 13:44:15   \n",
       "1               False                Mexico 2023-01-14 13:18:07   \n",
       "2               False               Germany 2023-10-10 13:14:55   \n",
       "3               False  Texas, United States 2023-07-04 13:01:41   \n",
       "4               False                 Sudan 2023-08-07 14:29:36   \n",
       "\n",
       "   job_no_degree_mention  job_health_insurance    job_country salary_rate  \\\n",
       "0                  False                 False  United States        None   \n",
       "1                  False                 False         Mexico        None   \n",
       "2                  False                 False        Germany        None   \n",
       "3                   True                 False  United States        None   \n",
       "4                  False                 False          Sudan        None   \n",
       "\n",
       "   salary_year_avg  salary_hour_avg                  company_name  \\\n",
       "0              NaN              NaN          Boehringer Ingelheim   \n",
       "1              NaN              NaN    Hewlett Packard Enterprise   \n",
       "2              NaN              NaN      ALPHA Augmented Services   \n",
       "3              NaN              NaN  Southwest Research Institute   \n",
       "4              NaN              NaN               Kristina Daniel   \n",
       "\n",
       "                                          job_skills  \\\n",
       "0                                               None   \n",
       "1         [r, python, sql, nosql, power bi, tableau]   \n",
       "2  [python, sql, c#, azure, airflow, dax, docker,...   \n",
       "3  [python, c++, java, matlab, aws, tensorflow, k...   \n",
       "4  [bash, python, oracle, aws, ansible, puppet, j...   \n",
       "\n",
       "                                     job_type_skills  job_posted_month  \n",
       "0                                               None                 6  \n",
       "1  {'analyst_tools': ['power bi', 'tableau'], 'pr...                 1  \n",
       "2  {'analyst_tools': ['dax'], 'cloud': ['azure'],...                10  \n",
       "3  {'cloud': ['aws'], 'libraries': ['tensorflow',...                 7  \n",
       "4  {'cloud': ['oracle', 'aws'], 'other': ['ansibl...                 8  "
      ]
     },
     "execution_count": 4,
     "metadata": {},
     "output_type": "execute_result"
    }
   ],
   "source": [
    "df.head()"
   ]
  },
  {
   "cell_type": "code",
   "execution_count": 5,
   "metadata": {},
   "outputs": [
    {
     "name": "stdout",
     "output_type": "stream",
     "text": [
      "<class 'pandas.core.frame.DataFrame'>\n",
      "RangeIndex: 785741 entries, 0 to 785740\n",
      "Data columns (total 18 columns):\n",
      " #   Column                 Non-Null Count   Dtype         \n",
      "---  ------                 --------------   -----         \n",
      " 0   job_title_short        785741 non-null  object        \n",
      " 1   job_title              785740 non-null  object        \n",
      " 2   job_location           784696 non-null  object        \n",
      " 3   job_via                785733 non-null  object        \n",
      " 4   job_schedule_type      773074 non-null  object        \n",
      " 5   job_work_from_home     785741 non-null  bool          \n",
      " 6   search_location        785741 non-null  object        \n",
      " 7   job_posted_date        785741 non-null  datetime64[ns]\n",
      " 8   job_no_degree_mention  785741 non-null  bool          \n",
      " 9   job_health_insurance   785741 non-null  bool          \n",
      " 10  job_country            785692 non-null  object        \n",
      " 11  salary_rate            33067 non-null   object        \n",
      " 12  salary_year_avg        22003 non-null   float64       \n",
      " 13  salary_hour_avg        10662 non-null   float64       \n",
      " 14  company_name           785723 non-null  object        \n",
      " 15  job_skills             668704 non-null  object        \n",
      " 16  job_type_skills        668704 non-null  object        \n",
      " 17  job_posted_month       785741 non-null  int32         \n",
      "dtypes: bool(3), datetime64[ns](1), float64(2), int32(1), object(11)\n",
      "memory usage: 89.2+ MB\n"
     ]
    }
   ],
   "source": [
    "df.info()"
   ]
  },
  {
   "cell_type": "markdown",
   "metadata": {},
   "source": [
    "## Number of monthly job postings of top 3 job titles in US"
   ]
  },
  {
   "cell_type": "code",
   "execution_count": 6,
   "metadata": {},
   "outputs": [],
   "source": [
    "df1 = df.loc[df['job_country'] == 'United States'].copy()"
   ]
  },
  {
   "cell_type": "code",
   "execution_count": 7,
   "metadata": {},
   "outputs": [
    {
     "name": "stdout",
     "output_type": "stream",
     "text": [
      "<class 'pandas.core.frame.DataFrame'>\n",
      "Index: 206292 entries, 0 to 785705\n",
      "Data columns (total 18 columns):\n",
      " #   Column                 Non-Null Count   Dtype         \n",
      "---  ------                 --------------   -----         \n",
      " 0   job_title_short        206292 non-null  object        \n",
      " 1   job_title              206292 non-null  object        \n",
      " 2   job_location           205505 non-null  object        \n",
      " 3   job_via                206285 non-null  object        \n",
      " 4   job_schedule_type      205099 non-null  object        \n",
      " 5   job_work_from_home     206292 non-null  bool          \n",
      " 6   search_location        206292 non-null  object        \n",
      " 7   job_posted_date        206292 non-null  datetime64[ns]\n",
      " 8   job_no_degree_mention  206292 non-null  bool          \n",
      " 9   job_health_insurance   206292 non-null  bool          \n",
      " 10  job_country            206292 non-null  object        \n",
      " 11  salary_rate            25372 non-null   object        \n",
      " 12  salary_year_avg        15766 non-null   float64       \n",
      " 13  salary_hour_avg        9405 non-null    float64       \n",
      " 14  company_name           206292 non-null  object        \n",
      " 15  job_skills             182167 non-null  object        \n",
      " 16  job_type_skills        182167 non-null  object        \n",
      " 17  job_posted_month       206292 non-null  int32         \n",
      "dtypes: bool(3), datetime64[ns](1), float64(2), int32(1), object(11)\n",
      "memory usage: 25.0+ MB\n"
     ]
    }
   ],
   "source": [
    "df1.info()"
   ]
  },
  {
   "cell_type": "code",
   "execution_count": 8,
   "metadata": {},
   "outputs": [
    {
     "data": {
      "image/png": "[encoded data removed]",
      "text/plain": [
       "<Figure size 1200x500 with 3 Axes>"
      ]
     },
     "metadata": {},
     "output_type": "display_data"
    }
   ],
   "source": [
    "df_DA = df1.loc[df1['job_title_short'] == 'Data Analyst']\n",
    "df_DE = df1.loc[df1['job_title_short'] == 'Data Engineer']\n",
    "df_DS = df1.loc[df1['job_title_short'] == 'Data Scientist']\n",
    "plt.figure(figsize = (12,5))\n",
    "plt.subplot(1,3,1)\n",
    "df_DA_graph = df_DA['job_posted_month'].value_counts().sort_index(ascending = True)\n",
    "df_DA_graph.plot(kind='bar')\n",
    "for index, value in enumerate(df_DA_graph.values):\n",
    "    plt.text(index, value, f'{value}', ha='center', va='bottom')\n",
    "plt.xlabel('')\n",
    "plt.title('Data Analyst')\n",
    "plt.xticks(rotation = 0)\n",
    "plt.subplot(1,3,2)\n",
    "df_DE_graph = df_DE['job_posted_month'].value_counts().sort_index(ascending=True)\n",
    "df_DE_graph.plot(kind='bar')\n",
    "for index, value in enumerate(df_DE_graph.values):\n",
    "    plt.text(index, value, f'{value}', ha='center', va='bottom')\n",
    "plt.xlabel('')\n",
    "plt.title('Data Engineer')\n",
    "plt.xticks(rotation = 0)\n",
    "plt.subplot(1,3,3)\n",
    "df_DS_graph = df_DS['job_posted_month'].value_counts().sort_index(ascending=True)\n",
    "df_DS_graph.plot(kind='bar')\n",
    "for index, value in enumerate(df_DS_graph.values):\n",
    "    plt.text(index, value, f'{value}', ha='center', va='bottom')\n",
    "plt.xlabel('')\n",
    "plt.title('Data Scientist')\n",
    "plt.xticks(rotation = 0)\n",
    "plt.suptitle('Monthly Job Postings by Job Title in the US in 2023')\n",
    "plt.tight_layout()"
   ]
  },
  {
   "cell_type": "code",
   "execution_count": 9,
   "metadata": {},
   "outputs": [
    {
     "data": {
      "image/png": "[encoded data removed]",
      "text/plain": [
       "<Figure size 1500x500 with 3 Axes>"
      ]
     },
     "metadata": {},
     "output_type": "display_data"
    }
   ],
   "source": [
    "import matplotlib.pyplot as plt\n",
    "\n",
    "# Assuming df1 is already defined and contains the necessary data\n",
    "\n",
    "df_DA = df1.loc[df1['job_title_short'] == 'Data Analyst']\n",
    "df_DE = df1.loc[df1['job_title_short'] == 'Data Engineer']\n",
    "df_DS = df1.loc[df1['job_title_short'] == 'Data Scientist']\n",
    "\n",
    "plt.figure(figsize=(15, 5))\n",
    "\n",
    "# Data Analyst plot\n",
    "plt.subplot(1, 3, 1)\n",
    "df_DA_graph = df_DA['job_posted_month'].value_counts().sort_index(ascending=True)\n",
    "bars = plt.bar(df_DA_graph.index, df_DA_graph.values)\n",
    "# Highlight the most and second highest bars\n",
    "highest = df_DA_graph.nlargest(2)\n",
    "bars[df_DA_graph.index.get_loc(highest.index[0])].set_color('red')\n",
    "bars[df_DA_graph.index.get_loc(highest.index[1])].set_color('orange')\n",
    "for index, value in enumerate(df_DA_graph.values):\n",
    "    plt.text(index, value, f'{value}', ha='center', va='bottom')\n",
    "plt.title('Data Analyst')\n",
    "\n",
    "# Data Engineer plot\n",
    "plt.subplot(1, 3, 2)\n",
    "df_DE_graph = df_DE['job_posted_month'].value_counts().sort_index(ascending=True)\n",
    "bars = plt.bar(df_DE_graph.index, df_DE_graph.values)\n",
    "# Highlight the most and second highest bars\n",
    "highest = df_DE_graph.nlargest(2)\n",
    "bars[df_DE_graph.index.get_loc(highest.index[0])].set_color('red')\n",
    "bars[df_DE_graph.index.get_loc(highest.index[1])].set_color('orange')\n",
    "for index, value in enumerate(df_DE_graph.values):\n",
    "    plt.text(index, value, f'{value}', ha='center', va='bottom')\n",
    "plt.title('Data Engineer')\n",
    "\n",
    "# Data Scientist plot\n",
    "plt.subplot(1, 3, 3)\n",
    "df_DS_graph = df_DS['job_posted_month'].value_counts().sort_index(ascending=True)\n",
    "bars = plt.bar(df_DS_graph.index, df_DS_graph.values)\n",
    "# Highlight the most and second highest bars\n",
    "highest = df_DS_graph.nlargest(2)\n",
    "bars[df_DS_graph.index.get_loc(highest.index[0])].set_color('red')\n",
    "bars[df_DS_graph.index.get_loc(highest.index[1])].set_color('orange')\n",
    "for index, value in enumerate(df_DS_graph.values):\n",
    "    plt.text(index, value, f'{value}', ha='center', va='bottom')\n",
    "plt.title('Data Scientist')\n",
    "\n",
    "plt.suptitle('Monthly Job Postings by Job Title in the US in 2023')\n",
    "plt.tight_layout()\n",
    "plt.show()"
   ]
  },
  {
   "cell_type": "code",
   "execution_count": 81,
   "metadata": {},
   "outputs": [],
   "source": [
    "top_3 = df['job_title_short'].value_counts().nlargest(3).index"
   ]
  },
  {
   "cell_type": "code",
   "execution_count": 82,
   "metadata": {},
   "outputs": [],
   "source": [
    "df_top_3 = df1.loc[df1['job_title_short'].isin(top_3)]"
   ]
  },
  {
   "cell_type": "code",
   "execution_count": 83,
   "metadata": {},
   "outputs": [
    {
     "data": {
      "application/vnd.microsoft.datawrangler.viewer.v0+json": {
       "columns": [
        {
         "name": "index",
         "rawType": "int64",
         "type": "integer"
        },
        {
         "name": "job_title_short",
         "rawType": "object",
         "type": "string"
        },
        {
         "name": "job_title",
         "rawType": "object",
         "type": "string"
        },
        {
         "name": "job_location",
         "rawType": "object",
         "type": "unknown"
        },
        {
         "name": "job_via",
         "rawType": "object",
         "type": "unknown"
        },
        {
         "name": "job_schedule_type",
         "rawType": "object",
         "type": "unknown"
        },
        {
         "name": "job_work_from_home",
         "rawType": "bool",
         "type": "boolean"
        },
        {
         "name": "search_location",
         "rawType": "object",
         "type": "string"
        },
        {
         "name": "job_posted_date",
         "rawType": "datetime64[ns]",
         "type": "datetime"
        },
        {
         "name": "job_no_degree_mention",
         "rawType": "bool",
         "type": "boolean"
        },
        {
         "name": "job_health_insurance",
         "rawType": "bool",
         "type": "boolean"
        },
        {
         "name": "job_country",
         "rawType": "object",
         "type": "string"
        },
        {
         "name": "salary_rate",
         "rawType": "object",
         "type": "unknown"
        },
        {
         "name": "salary_year_avg",
         "rawType": "float64",
         "type": "float"
        },
        {
         "name": "salary_hour_avg",
         "rawType": "float64",
         "type": "float"
        },
        {
         "name": "company_name",
         "rawType": "object",
         "type": "string"
        },
        {
         "name": "job_skills",
         "rawType": "object",
         "type": "unknown"
        },
        {
         "name": "job_type_skills",
         "rawType": "object",
         "type": "unknown"
        },
        {
         "name": "job_posted_month",
         "rawType": "int32",
         "type": "integer"
        }
       ],
       "conversionMethod": "pd.DataFrame",
       "ref": "b1069f14-31b7-471f-ae71-944cbf35f3bb",
       "rows": [
        [
         "3",
         "Data Engineer",
         "LEAD ENGINEER - PRINCIPAL ANALYST - PRINCIPAL ENGINEER -  DATA...",
         "San Antonio, TX",
         "via Diversity.com",
         "Full-time",
         "False",
         "Texas, United States",
         "2023-07-04 13:01:41",
         "True",
         "False",
         "United States",
         null,
         null,
         null,
         "Southwest Research Institute",
         "['python', 'c++', 'java', 'matlab', 'aws', 'tensorflow', 'keras', 'pytorch']",
         "{'cloud': ['aws'], 'libraries': ['tensorflow', 'keras', 'pytorch'], 'programming': ['python', 'c++', 'java', 'matlab']}",
         "7"
        ],
        [
         "5",
         "Data Engineer",
         "GCP Data Engineer",
         "Anywhere",
         "via ZipRecruiter",
         "Contractor and Temp work",
         "True",
         "Georgia",
         "2023-11-07 14:01:59",
         "False",
         "False",
         "United States",
         null,
         null,
         null,
         "smart folks inc",
         "['python', 'sql', 'gcp']",
         "{'cloud': ['gcp'], 'programming': ['python', 'sql']}",
         "11"
        ],
        [
         "9",
         "Data Scientist",
         "Data Scientist II",
         "Anywhere",
         "via ZipRecruiter",
         "Full-time",
         "True",
         "New York, United States",
         "2023-04-23 13:02:57",
         "False",
         "False",
         "United States",
         null,
         null,
         null,
         "Radwell International, LLC",
         "['sql', 'python', 'r', 'mongodb', 'mongodb', 'sql server', 'azure', 'pandas', 'spark', 'windows', 'excel']",
         "{'analyst_tools': ['excel'], 'cloud': ['azure'], 'databases': ['mongodb', 'sql server'], 'libraries': ['pandas', 'spark'], 'os': ['windows'], 'programming': ['sql', 'python', 'r', 'mongodb']}",
         "4"
        ],
        [
         "11",
         "Data Engineer",
         "Data Engineer",
         "Colorado Springs, CO   (+3 others)",
         "via The Muse",
         "Full-time",
         "False",
         "Texas, United States",
         "2023-11-03 13:06:51",
         "False",
         "True",
         "United States",
         null,
         null,
         null,
         "Philips",
         "['python', 'qlik']",
         "{'analyst_tools': ['qlik'], 'programming': ['python']}",
         "11"
        ],
        [
         "17",
         "Data Scientist",
         "Data Science Team Lead",
         "Laurel, MD",
         "via APL Careers - Johns Hopkins University Applied Physics Laboratory",
         "Full-time",
         "False",
         "Georgia",
         "2023-06-13 13:25:17",
         "False",
         "True",
         "United States",
         null,
         null,
         null,
         "Johns Hopkins Applied Physics Laboratory",
         "['go', 'apl', 'excel']",
         "{'analyst_tools': ['excel'], 'programming': ['go', 'apl']}",
         "6"
        ],
        [
         "26",
         "Data Engineer",
         "Data Engineer",
         "United States",
         "via LinkedIn",
         "Full-time",
         "False",
         "Georgia",
         "2023-09-15 13:56:18",
         "True",
         "False",
         "United States",
         null,
         null,
         null,
         "Infinite Computer Solutions",
         null,
         null,
         "9"
        ],
        [
         "27",
         "Data Engineer",
         "Principal Data Engineer (Lead), Knowledge Graphs and Data Semantics",
         "San Francisco, CA",
         "via LinkedIn",
         "Full-time",
         "False",
         "Georgia",
         "2023-02-18 13:31:24",
         "False",
         "False",
         "United States",
         null,
         null,
         null,
         "Altos Labs",
         "['python', 'r', 'java']",
         "{'programming': ['python', 'r', 'java']}",
         "2"
        ],
        [
         "32",
         "Data Scientist",
         "Sr. Data Scientist (NLP) - Full-time / Part-time",
         "Dallas, TX",
         "via Snagajob",
         "Full-time",
         "False",
         "Texas, United States",
         "2023-03-13 13:07:03",
         "False",
         "True",
         "United States",
         null,
         null,
         null,
         "MCKESSON",
         "['python', 'azure', 'databricks', 'pyspark', 'pandas', 'hadoop', 'spark', 'nltk']",
         "{'cloud': ['azure', 'databricks'], 'libraries': ['pyspark', 'pandas', 'hadoop', 'spark', 'nltk'], 'programming': ['python']}",
         "3"
        ],
        [
         "35",
         "Data Engineer",
         "Data Engineer - Royal Canin",
         "St Charles, MO",
         "via My ArkLaMiss Jobs",
         "Full-time",
         "False",
         "California, United States",
         "2023-02-17 13:10:21",
         "True",
         "True",
         "United States",
         null,
         null,
         null,
         "Mars",
         "['python', 'sql', 'neo4j', 'databricks', 'azure', 'spark', 'pyspark', 'flask']",
         "{'cloud': ['databricks', 'azure'], 'databases': ['neo4j'], 'libraries': ['spark', 'pyspark'], 'programming': ['python', 'sql'], 'webframeworks': ['flask']}",
         "2"
        ],
        [
         "36",
         "Data Analyst",
         "Data Analyst",
         "Des Moines, IA",
         "via Trabajo.org",
         "Full-time",
         "False",
         "Illinois, United States",
         "2023-11-06 13:01:22",
         "False",
         "True",
         "United States",
         null,
         null,
         null,
         "Assuredpartners",
         null,
         null,
         "11"
        ],
        [
         "37",
         "Data Engineer",
         "Data Engineer III - Now Hiring",
         "Boston, MA",
         "via Snagajob",
         "Full-time",
         "False",
         "Illinois, United States",
         "2023-07-10 13:08:19",
         "False",
         "True",
         "United States",
         null,
         null,
         null,
         "American Family Mutual Insurance Company",
         "['python', 'sql', 'nosql', 'aws', 'gcp', 'azure', 'spark', 'hadoop', 'docker', 'terraform', 'jenkins', 'git']",
         "{'cloud': ['aws', 'gcp', 'azure'], 'libraries': ['spark', 'hadoop'], 'other': ['docker', 'terraform', 'jenkins', 'git'], 'programming': ['python', 'sql', 'nosql']}",
         "7"
        ],
        [
         "39",
         "Data Engineer",
         "Data Engineer",
         "Fort Worth, TX",
         "via LinkedIn",
         "Full-time",
         "False",
         "Texas, United States",
         "2023-01-25 13:24:01",
         "False",
         "False",
         "United States",
         null,
         null,
         null,
         "Programmers.io",
         "['sql', 'python']",
         "{'programming': ['sql', 'python']}",
         "1"
        ],
        [
         "40",
         "Data Scientist",
         "Data Scientist, Data Strategy and Analytics",
         "Alameda, CA",
         "via Trabajo.org",
         "Full-time",
         "False",
         "California, United States",
         "2023-04-26 13:05:10",
         "False",
         "False",
         "United States",
         null,
         null,
         null,
         "Abbott",
         null,
         null,
         "4"
        ],
        [
         "41",
         "Data Scientist",
         "Data Scientist I",
         "Paris, KY",
         "via Jobs By Care",
         "Full-time",
         "False",
         "Georgia",
         "2023-11-13 14:59:39",
         "False",
         "False",
         "United States",
         null,
         null,
         null,
         "Appalachian Regional Healthcare",
         "['r', 'sql', 'python', 'scala', 'java', 'c++', 'hadoop', 'tableau']",
         "{'analyst_tools': ['tableau'], 'libraries': ['hadoop'], 'programming': ['r', 'sql', 'python', 'scala', 'java', 'c++']}",
         "11"
        ],
        [
         "52",
         "Data Scientist",
         "Data Scientist SME or Program Manager",
         "Austin, TX",
         "via LinkedIn",
         "Contractor",
         "False",
         "Texas, United States",
         "2023-11-16 13:03:10",
         "False",
         "False",
         "United States",
         null,
         null,
         null,
         "Mavinsys",
         "['sql', 'html', 'css', 'javascript', 'lua', 'redshift', 'snowflake', 'databricks', 'linux', 'tableau', 'git']",
         "{'analyst_tools': ['tableau'], 'cloud': ['redshift', 'snowflake', 'databricks'], 'os': ['linux'], 'other': ['git'], 'programming': ['sql', 'html', 'css', 'javascript', 'lua']}",
         "11"
        ],
        [
         "53",
         "Data Engineer",
         "Data Engineer",
         "San Mateo, CA",
         "via LinkedIn",
         "Full-time",
         "False",
         "California, United States",
         "2023-01-28 13:07:30",
         "False",
         "True",
         "United States",
         null,
         null,
         null,
         "Verkada",
         "['sql', 'python', 'aws', 'looker']",
         "{'analyst_tools': ['looker'], 'cloud': ['aws'], 'programming': ['sql', 'python']}",
         "1"
        ],
        [
         "54",
         "Data Engineer",
         "Data and Analytics Engineer",
         "San Antonio, TX",
         "via Trabajo.org",
         "Full-time",
         "False",
         "Texas, United States",
         "2023-09-15 13:07:12",
         "False",
         "False",
         "United States",
         null,
         null,
         null,
         "PwC",
         "['snowflake', 'spark', 'hadoop', 'tableau', 'qlik']",
         "{'analyst_tools': ['tableau', 'qlik'], 'cloud': ['snowflake'], 'libraries': ['spark', 'hadoop']}",
         "9"
        ],
        [
         "61",
         "Data Engineer",
         "Data Engineer",
         "Cincinnati, OH",
         "via SimplyHired",
         "Full-time",
         "False",
         "Texas, United States",
         "2023-01-22 13:08:53",
         "False",
         "False",
         "United States",
         null,
         null,
         null,
         "Divisions Maintenance Group",
         "['sql', 'nosql', 'python', 'java', 'c++', 'scala', 'cassandra', 'hadoop', 'spark', 'kafka']",
         "{'databases': ['cassandra'], 'libraries': ['hadoop', 'spark', 'kafka'], 'programming': ['sql', 'nosql', 'python', 'java', 'c++', 'scala']}",
         "1"
        ],
        [
         "65",
         "Data Engineer",
         "System Reliability Engineer (Big Data)",
         "Missouri",
         "via SmartRecruiters Job Search",
         "Full-time",
         "False",
         "California, United States",
         "2023-06-16 13:43:03",
         "True",
         "False",
         "United States",
         null,
         null,
         null,
         "Fulcrum Digital Inc.",
         "['sql', 'hadoop', 'spark', 'jenkins', 'chef', 'flow']",
         "{'libraries': ['hadoop', 'spark'], 'other': ['jenkins', 'chef', 'flow'], 'programming': ['sql']}",
         "6"
        ],
        [
         "68",
         "Data Analyst",
         "Sr. Research Data Analyst",
         "Baltimore, MD",
         "via ZipRecruiter",
         "Full-time",
         "False",
         "New York, United States",
         "2023-03-24 13:01:00",
         "False",
         "False",
         "United States",
         null,
         null,
         null,
         "Johns Hopkins Medicine",
         "['r', 'zoom']",
         "{'programming': ['r'], 'sync': ['zoom']}",
         "3"
        ],
        [
         "73",
         "Data Analyst",
         "Entry level / Systems Data Analyst (Remote)",
         "Anywhere",
         "via LinkedIn",
         "Contractor",
         "True",
         "Illinois, United States",
         "2023-06-16 13:18:22",
         "True",
         "True",
         "United States",
         null,
         null,
         null,
         "Soft Magic",
         "['word', 'excel', 'powerpoint', 'outlook']",
         "{'analyst_tools': ['word', 'excel', 'powerpoint', 'outlook']}",
         "6"
        ],
        [
         "79",
         "Data Analyst",
         "Data Analyst/Report Writer",
         "Austin, TX",
         "via Jobs Trabajo.org",
         "Full-time",
         "False",
         "Texas, United States",
         "2023-08-07 13:18:27",
         "True",
         "False",
         "United States",
         null,
         null,
         null,
         "Nesco Resource",
         "['sas', 'sas', 'word', 'excel']",
         "{'analyst_tools': ['sas', 'word', 'excel'], 'programming': ['sas']}",
         "8"
        ],
        [
         "92",
         "Data Engineer",
         "Remote - Data Engineer - Permanent - W2",
         "Anywhere",
         "via LinkedIn",
         "Full-time",
         "True",
         "Illinois, United States",
         "2023-02-21 13:29:59",
         "False",
         "True",
         "United States",
         "year",
         "120000.0",
         null,
         "Apex Systems",
         "['sql', 'python']",
         "{'programming': ['sql', 'python']}",
         "2"
        ],
        [
         "93",
         "Data Analyst",
         "IT Finance / TBM Data Analyst - Remote | WFH",
         "Anywhere",
         "via LinkedIn",
         "Full-time",
         "True",
         "New York, United States",
         "2023-06-10 13:00:05",
         "False",
         "False",
         "United States",
         null,
         null,
         null,
         "Get It Recruit - Information Technology",
         "['oracle', 'azure', 'power bi', 'excel', 'word', 'powerpoint']",
         "{'analyst_tools': ['power bi', 'excel', 'word', 'powerpoint'], 'cloud': ['oracle', 'azure']}",
         "6"
        ],
        [
         "94",
         "Data Engineer",
         "Data Engineer - Cloud Operations",
         "Lehi, UT",
         "via LinkedIn",
         "Full-time",
         "False",
         "Texas, United States",
         "2023-03-18 13:08:17",
         "False",
         "False",
         "United States",
         null,
         null,
         null,
         "Adobe",
         "['javascript', 'python', 'sql', 'aws', 'azure', 'power bi', 'tableau']",
         "{'analyst_tools': ['power bi', 'tableau'], 'cloud': ['aws', 'azure'], 'programming': ['javascript', 'python', 'sql']}",
         "3"
        ],
        [
         "99",
         "Data Engineer",
         "Senior/Staff Data Engineer – Apache Spark (Java/Scala) (Bangkok...",
         "Miami, FL",
         "via LinkedIn",
         "Full-time",
         "False",
         "California, United States",
         "2023-09-12 13:09:28",
         "False",
         "False",
         "United States",
         null,
         null,
         null,
         "Agoda",
         "['scala', 'java', 'golang', 'sql', 'react', 'spark', 'hadoop', 'linux']",
         "{'libraries': ['react', 'spark', 'hadoop'], 'os': ['linux'], 'programming': ['scala', 'java', 'golang', 'sql']}",
         "9"
        ],
        [
         "100",
         "Data Scientist",
         "Data Scientist, Risk Data Mining - USDS",
         "Mountain View, CA",
         "via LinkedIn",
         "Full-time",
         "False",
         "California, United States",
         "2023-07-31 13:01:18",
         "False",
         "True",
         "United States",
         "year",
         "228222.0",
         null,
         "TikTok",
         "['sql', 'r', 'python', 'express']",
         "{'programming': ['sql', 'r', 'python'], 'webframeworks': ['express']}",
         "7"
        ],
        [
         "109",
         "Data Analyst",
         "Senior Supply Chain Analytics Analyst",
         "Anywhere",
         "via Get.It",
         "Full-time",
         "True",
         "Illinois, United States",
         "2023-10-12 13:02:19",
         "False",
         "True",
         "United States",
         "year",
         "89000.0",
         null,
         "Get It Recruit - Transportation",
         "['python', 'r', 'alteryx', 'tableau']",
         "{'analyst_tools': ['alteryx', 'tableau'], 'programming': ['python', 'r']}",
         "10"
        ],
        [
         "110",
         "Data Engineer",
         "Data Engineer",
         "NAVAL SEA SYS, DC",
         "via WANE Jobs",
         "Full-time",
         "False",
         "California, United States",
         "2023-05-01 13:08:34",
         "False",
         "True",
         "United States",
         null,
         null,
         null,
         "LEIDOS",
         "['sql', 'nosql', 'mongodb', 'mongodb', 'python', 'java', 'mysql', 'aws', 'gcp', 'azure', 'react', 'hadoop', 'spark', 'tableau', 'flow', 'docker', 'kubernetes']",
         "{'analyst_tools': ['tableau'], 'cloud': ['aws', 'gcp', 'azure'], 'databases': ['mongodb', 'mysql'], 'libraries': ['react', 'hadoop', 'spark'], 'other': ['flow', 'docker', 'kubernetes'], 'programming': ['sql', 'nosql', 'mongodb', 'python', 'java']}",
         "5"
        ],
        [
         "111",
         "Data Scientist",
         "Data Scientist",
         "Atlanta, GA",
         "via ZipRecruiter",
         "Full-time",
         "False",
         "Illinois, United States",
         "2023-08-15 13:04:50",
         "False",
         "False",
         "United States",
         null,
         null,
         null,
         "Stantec",
         "['python', 'sql', 'c#', 'r']",
         "{'programming': ['python', 'sql', 'c#', 'r']}",
         "8"
        ],
        [
         "112",
         "Data Engineer",
         "Data Engineer",
         "Morristown, NJ",
         "via JobServe",
         "Full-time",
         "False",
         "Illinois, United States",
         "2023-08-13 13:07:16",
         "True",
         "True",
         "United States",
         null,
         null,
         null,
         "Zelis Healthcare, LLC",
         "['sql', 't-sql', 'sql server', 'azure', 'snowflake', 'git', 'jira', 'confluence']",
         "{'async': ['jira', 'confluence'], 'cloud': ['azure', 'snowflake'], 'databases': ['sql server'], 'other': ['git'], 'programming': ['sql', 't-sql']}",
         "8"
        ],
        [
         "114",
         "Data Engineer",
         "Data Engineer Analyst",
         "Trenton, AL",
         "via WJHL Jobs",
         "Full-time",
         "False",
         "California, United States",
         "2023-05-08 13:10:23",
         "False",
         "True",
         "United States",
         null,
         null,
         null,
         "Guidehouse",
         "['javascript', 'typescript', 'sql', 'python', 'r', 'azure', 'aws', 'pyspark', 'outlook', 'power bi', 'tableau', 'qlik']",
         "{'analyst_tools': ['outlook', 'power bi', 'tableau', 'qlik'], 'cloud': ['azure', 'aws'], 'libraries': ['pyspark'], 'programming': ['javascript', 'typescript', 'sql', 'python', 'r']}",
         "5"
        ],
        [
         "116",
         "Data Scientist",
         "Data Scientist",
         "Anywhere",
         "via LinkedIn",
         "Full-time",
         "True",
         "Texas, United States",
         "2023-10-04 13:04:23",
         "False",
         "False",
         "United States",
         "year",
         "114000.0",
         null,
         "4 Corner Resources",
         "['r', 'python', 'sql', 't-sql', 'hadoop', 'spark', 'tableau']",
         "{'analyst_tools': ['tableau'], 'libraries': ['hadoop', 'spark'], 'programming': ['r', 'python', 'sql', 't-sql']}",
         "10"
        ],
        [
         "117",
         "Data Analyst",
         "data analyst",
         "Pleasanton, CA",
         "via BeBee",
         "Temp work",
         "False",
         "California, United States",
         "2023-11-30 13:00:52",
         "True",
         "False",
         "United States",
         null,
         null,
         null,
         "Robotics Technologies LLC",
         null,
         null,
         "11"
        ],
        [
         "119",
         "Data Scientist",
         "Global Data Scientist",
         "Anywhere",
         "via LinkedIn",
         "Full-time",
         "True",
         "Texas, United States",
         "2023-03-13 13:06:29",
         "False",
         "False",
         "United States",
         null,
         null,
         null,
         "Kimberly-Clark",
         "['sql', 'r', 'python', 'azure', 'snowflake', 'sap', 'powerpoint', 'excel', 'power bi']",
         "{'analyst_tools': ['sap', 'powerpoint', 'excel', 'power bi'], 'cloud': ['azure', 'snowflake'], 'programming': ['sql', 'r', 'python']}",
         "3"
        ],
        [
         "122",
         "Data Scientist",
         "Data Science - W2",
         "Los Angeles, CA",
         "via LinkedIn",
         "Contractor",
         "False",
         "California, United States",
         "2023-08-18 13:04:14",
         "False",
         "False",
         "United States",
         null,
         null,
         null,
         "FYTECH GLOBAL Solutions",
         null,
         null,
         "8"
        ],
        [
         "126",
         "Data Engineer",
         "Data Engineer",
         "New York, NY",
         "via LinkedIn",
         "Full-time",
         "False",
         "New York, United States",
         "2023-05-08 13:08:15",
         "False",
         "True",
         "United States",
         null,
         null,
         null,
         "Career Search Partners",
         "['sql', 'python', 'sql server', 'excel', 'flow', 'git']",
         "{'analyst_tools': ['excel'], 'databases': ['sql server'], 'other': ['flow', 'git'], 'programming': ['sql', 'python']}",
         "5"
        ],
        [
         "127",
         "Data Engineer",
         "Snowflake Data Engineer",
         "Plano, TX",
         "via LinkedIn",
         "Full-time",
         "False",
         "Texas, United States",
         "2023-10-21 13:06:40",
         "False",
         "False",
         "United States",
         null,
         null,
         null,
         "Get It Recruit - Professional Services",
         "['sql', 'snowflake']",
         "{'cloud': ['snowflake'], 'programming': ['sql']}",
         "10"
        ],
        [
         "129",
         "Data Scientist",
         "Data Scientist",
         "Sunnyvale, CA",
         "via Trabajo.org",
         "Full-time",
         "False",
         "California, United States",
         "2023-06-24 13:05:47",
         "False",
         "False",
         "United States",
         null,
         null,
         null,
         "LotusFlare",
         "['python', 'sql', 'nosql', 'aws']",
         "{'cloud': ['aws'], 'programming': ['python', 'sql', 'nosql']}",
         "6"
        ],
        [
         "135",
         "Data Analyst",
         "Data Loss Prevention Activity Monitoring Analyst",
         "Atlanta, GA",
         "via LinkedIn",
         "Full-time",
         "False",
         "Georgia",
         "2023-07-09 14:03:52",
         "False",
         "False",
         "United States",
         null,
         null,
         null,
         "TikTok",
         "['python', 'go', 'javascript', 'gdpr']",
         "{'libraries': ['gdpr'], 'programming': ['python', 'go', 'javascript']}",
         "7"
        ],
        [
         "137",
         "Data Engineer",
         "Data Analytics Engineer - Remote | WFH",
         "Anywhere",
         "via LinkedIn",
         "Full-time",
         "True",
         "Texas, United States",
         "2023-09-24 13:04:07",
         "False",
         "True",
         "United States",
         null,
         null,
         null,
         "Get It Recruit - Information Technology",
         "['sql', 'r', 'python', 'snowflake', 'looker', 'git']",
         "{'analyst_tools': ['looker'], 'cloud': ['snowflake'], 'other': ['git'], 'programming': ['sql', 'r', 'python']}",
         "9"
        ],
        [
         "139",
         "Data Engineer",
         "Data Engineer",
         "Oakland, CA",
         "via FOX 5 San Diego Jobs",
         "Full-time",
         "False",
         "New York, United States",
         "2023-03-30 13:05:24",
         "False",
         "False",
         "United States",
         null,
         null,
         null,
         "PG&E Corporation",
         "['python', 'aws', 'spark', 'pandas', 'pyspark', 'sap', 'tableau']",
         "{'analyst_tools': ['sap', 'tableau'], 'cloud': ['aws'], 'libraries': ['spark', 'pandas', 'pyspark'], 'programming': ['python']}",
         "3"
        ],
        [
         "140",
         "Data Scientist",
         "Health Data Scientist",
         "Bethesda, MD",
         "via Trabajo.org",
         "Full-time",
         "False",
         "Georgia",
         "2023-11-12 13:49:48",
         "False",
         "False",
         "United States",
         null,
         null,
         null,
         "Booz Allen Hamilton",
         null,
         null,
         "11"
        ],
        [
         "143",
         "Data Analyst",
         "Data Analyst/Accreditation Manager",
         "Delray Beach, FL",
         "via BeBee",
         "Full-time",
         "False",
         "Florida, United States",
         "2023-10-06 13:01:44",
         "True",
         "False",
         "United States",
         null,
         null,
         null,
         "City of Delray Beach",
         null,
         null,
         "10"
        ],
        [
         "144",
         "Data Engineer",
         "Staff Data Engineer",
         "Ann Arbor, MI",
         "via BeBee",
         "Full-time",
         "False",
         "New York, United States",
         "2023-11-10 13:24:07",
         "False",
         "True",
         "United States",
         null,
         null,
         null,
         "University of Michigan - Ann Arbor",
         "['sql', 'oracle', 'aws', 'azure', 'gcp', 'ssis']",
         "{'analyst_tools': ['ssis'], 'cloud': ['oracle', 'aws', 'azure', 'gcp'], 'programming': ['sql']}",
         "11"
        ],
        [
         "146",
         "Data Engineer",
         "Data Engineer Graduate (Real Time Communication) - 2024 Start (BS/ MS)",
         "Seattle, WA",
         "via LinkedIn",
         "Full-time",
         "False",
         "California, United States",
         "2023-10-21 13:06:16",
         "False",
         "True",
         "United States",
         "year",
         "129500.0",
         null,
         "ByteDance",
         "['golang', 'scala', 'python', 'java', 'hadoop', 'spark']",
         "{'libraries': ['hadoop', 'spark'], 'programming': ['golang', 'scala', 'python', 'java']}",
         "10"
        ],
        [
         "154",
         "Data Scientist",
         "Data Scientist I",
         "Charlotte, NC",
         "via Jobs.appcast.io",
         "Full-time",
         "False",
         "Florida, United States",
         "2023-09-03 13:04:49",
         "False",
         "True",
         "United States",
         null,
         null,
         null,
         "Truist Inc",
         "['python', 'sas', 'sas', 'r', 'sql', 'nosql', 'hadoop', 'spark', 'jquery']",
         "{'analyst_tools': ['sas'], 'libraries': ['hadoop', 'spark'], 'programming': ['python', 'sas', 'r', 'sql', 'nosql'], 'webframeworks': ['jquery']}",
         "9"
        ],
        [
         "155",
         "Data Analyst",
         "Data Analyst",
         "Tampa, FL",
         "via LinkedIn",
         "Full-time",
         "False",
         "Florida, United States",
         "2023-01-19 13:19:45",
         "False",
         "False",
         "United States",
         null,
         null,
         null,
         "Citi",
         "['sql', 'python', 'unix', 'excel', 'jira']",
         "{'analyst_tools': ['excel'], 'async': ['jira'], 'os': ['unix'], 'programming': ['sql', 'python']}",
         "1"
        ],
        [
         "158",
         "Data Engineer",
         "Lead Data Engineer/Architect",
         "Anywhere",
         "via LinkedIn",
         "Full-time",
         "True",
         "Georgia",
         "2023-11-17 14:03:10",
         "False",
         "False",
         "United States",
         null,
         null,
         null,
         "BizAnalytica",
         "['python', 'sql', 'java', 'scala', 'snowflake', 'redshift', 'aws', 'azure', 'databricks', 'spark', 'excel']",
         "{'analyst_tools': ['excel'], 'cloud': ['snowflake', 'redshift', 'aws', 'azure', 'databricks'], 'libraries': ['spark'], 'programming': ['python', 'sql', 'java', 'scala']}",
         "11"
        ],
        [
         "163",
         "Data Engineer",
         "Data Engineer",
         "Anywhere",
         "via Indeed",
         "Full-time",
         "True",
         "New York, United States",
         "2023-11-11 13:04:38",
         "False",
         "False",
         "United States",
         null,
         null,
         null,
         "IQVIA",
         "['sql', 'python', 'postgresql']",
         "{'databases': ['postgresql'], 'programming': ['sql', 'python']}",
         "11"
        ]
       ],
       "shape": {
        "columns": 18,
        "rows": 161726
       }
      },
      "text/html": [
       "<div>\n",
       "<style scoped>\n",
       "    .dataframe tbody tr th:only-of-type {\n",
       "        vertical-align: middle;\n",
       "    }\n",
       "\n",
       "    .dataframe tbody tr th {\n",
       "        vertical-align: top;\n",
       "    }\n",
       "\n",
       "    .dataframe thead th {\n",
       "        text-align: right;\n",
       "    }\n",
       "</style>\n",
       "<table border=\"1\" class=\"dataframe\">\n",
       "  <thead>\n",
       "    <tr style=\"text-align: right;\">\n",
       "      <th></th>\n",
       "      <th>job_title_short</th>\n",
       "      <th>job_title</th>\n",
       "      <th>job_location</th>\n",
       "      <th>job_via</th>\n",
       "      <th>job_schedule_type</th>\n",
       "      <th>job_work_from_home</th>\n",
       "      <th>search_location</th>\n",
       "      <th>job_posted_date</th>\n",
       "      <th>job_no_degree_mention</th>\n",
       "      <th>job_health_insurance</th>\n",
       "      <th>job_country</th>\n",
       "      <th>salary_rate</th>\n",
       "      <th>salary_year_avg</th>\n",
       "      <th>salary_hour_avg</th>\n",
       "      <th>company_name</th>\n",
       "      <th>job_skills</th>\n",
       "      <th>job_type_skills</th>\n",
       "      <th>job_posted_month</th>\n",
       "    </tr>\n",
       "  </thead>\n",
       "  <tbody>\n",
       "    <tr>\n",
       "      <th>3</th>\n",
       "      <td>Data Engineer</td>\n",
       "      <td>LEAD ENGINEER - PRINCIPAL ANALYST - PRINCIPAL ...</td>\n",
       "      <td>San Antonio, TX</td>\n",
       "      <td>via Diversity.com</td>\n",
       "      <td>Full-time</td>\n",
       "      <td>False</td>\n",
       "      <td>Texas, United States</td>\n",
       "      <td>2023-07-04 13:01:41</td>\n",
       "      <td>True</td>\n",
       "      <td>False</td>\n",
       "      <td>United States</td>\n",
       "      <td>None</td>\n",
       "      <td>NaN</td>\n",
       "      <td>NaN</td>\n",
       "      <td>Southwest Research Institute</td>\n",
       "      <td>[python, c++, java, matlab, aws, tensorflow, k...</td>\n",
       "      <td>{'cloud': ['aws'], 'libraries': ['tensorflow',...</td>\n",
       "      <td>7</td>\n",
       "    </tr>\n",
       "    <tr>\n",
       "      <th>5</th>\n",
       "      <td>Data Engineer</td>\n",
       "      <td>GCP Data Engineer</td>\n",
       "      <td>Anywhere</td>\n",
       "      <td>via ZipRecruiter</td>\n",
       "      <td>Contractor and Temp work</td>\n",
       "      <td>True</td>\n",
       "      <td>Georgia</td>\n",
       "      <td>2023-11-07 14:01:59</td>\n",
       "      <td>False</td>\n",
       "      <td>False</td>\n",
       "      <td>United States</td>\n",
       "      <td>None</td>\n",
       "      <td>NaN</td>\n",
       "      <td>NaN</td>\n",
       "      <td>smart folks inc</td>\n",
       "      <td>[python, sql, gcp]</td>\n",
       "      <td>{'cloud': ['gcp'], 'programming': ['python', '...</td>\n",
       "      <td>11</td>\n",
       "    </tr>\n",
       "    <tr>\n",
       "      <th>9</th>\n",
       "      <td>Data Scientist</td>\n",
       "      <td>Data Scientist II</td>\n",
       "      <td>Anywhere</td>\n",
       "      <td>via ZipRecruiter</td>\n",
       "      <td>Full-time</td>\n",
       "      <td>True</td>\n",
       "      <td>New York, United States</td>\n",
       "      <td>2023-04-23 13:02:57</td>\n",
       "      <td>False</td>\n",
       "      <td>False</td>\n",
       "      <td>United States</td>\n",
       "      <td>None</td>\n",
       "      <td>NaN</td>\n",
       "      <td>NaN</td>\n",
       "      <td>Radwell International, LLC</td>\n",
       "      <td>[sql, python, r, mongodb, mongodb, sql server,...</td>\n",
       "      <td>{'analyst_tools': ['excel'], 'cloud': ['azure'...</td>\n",
       "      <td>4</td>\n",
       "    </tr>\n",
       "    <tr>\n",
       "      <th>11</th>\n",
       "      <td>Data Engineer</td>\n",
       "      <td>Data Engineer</td>\n",
       "      <td>Colorado Springs, CO   (+3 others)</td>\n",
       "      <td>via The Muse</td>\n",
       "      <td>Full-time</td>\n",
       "      <td>False</td>\n",
       "      <td>Texas, United States</td>\n",
       "      <td>2023-11-03 13:06:51</td>\n",
       "      <td>False</td>\n",
       "      <td>True</td>\n",
       "      <td>United States</td>\n",
       "      <td>None</td>\n",
       "      <td>NaN</td>\n",
       "      <td>NaN</td>\n",
       "      <td>Philips</td>\n",
       "      <td>[python, qlik]</td>\n",
       "      <td>{'analyst_tools': ['qlik'], 'programming': ['p...</td>\n",
       "      <td>11</td>\n",
       "    </tr>\n",
       "    <tr>\n",
       "      <th>17</th>\n",
       "      <td>Data Scientist</td>\n",
       "      <td>Data Science Team Lead</td>\n",
       "      <td>Laurel, MD</td>\n",
       "      <td>via APL Careers - Johns Hopkins University App...</td>\n",
       "      <td>Full-time</td>\n",
       "      <td>False</td>\n",
       "      <td>Georgia</td>\n",
       "      <td>2023-06-13 13:25:17</td>\n",
       "      <td>False</td>\n",
       "      <td>True</td>\n",
       "      <td>United States</td>\n",
       "      <td>None</td>\n",
       "      <td>NaN</td>\n",
       "      <td>NaN</td>\n",
       "      <td>Johns Hopkins Applied Physics Laboratory</td>\n",
       "      <td>[go, apl, excel]</td>\n",
       "      <td>{'analyst_tools': ['excel'], 'programming': ['...</td>\n",
       "      <td>6</td>\n",
       "    </tr>\n",
       "    <tr>\n",
       "      <th>...</th>\n",
       "      <td>...</td>\n",
       "      <td>...</td>\n",
       "      <td>...</td>\n",
       "      <td>...</td>\n",
       "      <td>...</td>\n",
       "      <td>...</td>\n",
       "      <td>...</td>\n",
       "      <td>...</td>\n",
       "      <td>...</td>\n",
       "      <td>...</td>\n",
       "      <td>...</td>\n",
       "      <td>...</td>\n",
       "      <td>...</td>\n",
       "      <td>...</td>\n",
       "      <td>...</td>\n",
       "      <td>...</td>\n",
       "      <td>...</td>\n",
       "      <td>...</td>\n",
       "    </tr>\n",
       "    <tr>\n",
       "      <th>785673</th>\n",
       "      <td>Data Scientist</td>\n",
       "      <td>Asset Management Data Scientist</td>\n",
       "      <td>New York, NY</td>\n",
       "      <td>via Trabajo.org</td>\n",
       "      <td>Full-time</td>\n",
       "      <td>False</td>\n",
       "      <td>New York, United States</td>\n",
       "      <td>2023-10-16 06:01:53</td>\n",
       "      <td>True</td>\n",
       "      <td>False</td>\n",
       "      <td>United States</td>\n",
       "      <td>None</td>\n",
       "      <td>NaN</td>\n",
       "      <td>NaN</td>\n",
       "      <td>JPMorgan Chase &amp; Co.</td>\n",
       "      <td>None</td>\n",
       "      <td>None</td>\n",
       "      <td>10</td>\n",
       "    </tr>\n",
       "    <tr>\n",
       "      <th>785685</th>\n",
       "      <td>Data Analyst</td>\n",
       "      <td>Data Analyst</td>\n",
       "      <td>Indianapolis, IN</td>\n",
       "      <td>via Trabajo.org</td>\n",
       "      <td>Full-time</td>\n",
       "      <td>False</td>\n",
       "      <td>Illinois, United States</td>\n",
       "      <td>2023-07-16 06:01:27</td>\n",
       "      <td>True</td>\n",
       "      <td>False</td>\n",
       "      <td>United States</td>\n",
       "      <td>None</td>\n",
       "      <td>NaN</td>\n",
       "      <td>NaN</td>\n",
       "      <td>Aara Technologies, Inc</td>\n",
       "      <td>[sql, excel]</td>\n",
       "      <td>{'analyst_tools': ['excel'], 'programming': ['...</td>\n",
       "      <td>7</td>\n",
       "    </tr>\n",
       "    <tr>\n",
       "      <th>785692</th>\n",
       "      <td>Data Scientist</td>\n",
       "      <td>Data Scientist- Hybrid Work Location</td>\n",
       "      <td>Dayton, OH</td>\n",
       "      <td>via Ai-Jobs.net</td>\n",
       "      <td>Full-time</td>\n",
       "      <td>False</td>\n",
       "      <td>Illinois, United States</td>\n",
       "      <td>2023-04-21 06:02:31</td>\n",
       "      <td>False</td>\n",
       "      <td>True</td>\n",
       "      <td>United States</td>\n",
       "      <td>year</td>\n",
       "      <td>157500.0</td>\n",
       "      <td>NaN</td>\n",
       "      <td>Tenet3</td>\n",
       "      <td>[python, matlab, r]</td>\n",
       "      <td>{'programming': ['python', 'matlab', 'r']}</td>\n",
       "      <td>4</td>\n",
       "    </tr>\n",
       "    <tr>\n",
       "      <th>785703</th>\n",
       "      <td>Data Analyst</td>\n",
       "      <td>Data Analyst - CRYPTOGRAPHY - Full-time</td>\n",
       "      <td>Anywhere</td>\n",
       "      <td>via Snagajob</td>\n",
       "      <td>Full-time</td>\n",
       "      <td>True</td>\n",
       "      <td>Texas, United States</td>\n",
       "      <td>2023-01-28 06:02:55</td>\n",
       "      <td>True</td>\n",
       "      <td>False</td>\n",
       "      <td>United States</td>\n",
       "      <td>None</td>\n",
       "      <td>NaN</td>\n",
       "      <td>NaN</td>\n",
       "      <td>Axelon Services Corporation</td>\n",
       "      <td>None</td>\n",
       "      <td>None</td>\n",
       "      <td>1</td>\n",
       "    </tr>\n",
       "    <tr>\n",
       "      <th>785705</th>\n",
       "      <td>Data Analyst</td>\n",
       "      <td>Expert Business Data Analyst - Now Hiring</td>\n",
       "      <td>Oakland, CA</td>\n",
       "      <td>via Snagajob</td>\n",
       "      <td>Full-time</td>\n",
       "      <td>False</td>\n",
       "      <td>California, United States</td>\n",
       "      <td>2023-01-09 06:00:25</td>\n",
       "      <td>False</td>\n",
       "      <td>False</td>\n",
       "      <td>United States</td>\n",
       "      <td>None</td>\n",
       "      <td>NaN</td>\n",
       "      <td>NaN</td>\n",
       "      <td>PG&amp;E Corporation</td>\n",
       "      <td>[sql, python, tableau]</td>\n",
       "      <td>{'analyst_tools': ['tableau'], 'programming': ...</td>\n",
       "      <td>1</td>\n",
       "    </tr>\n",
       "  </tbody>\n",
       "</table>\n",
       "<p>161726 rows × 18 columns</p>\n",
       "</div>"
      ],
      "text/plain": [
       "       job_title_short                                          job_title  \\\n",
       "3        Data Engineer  LEAD ENGINEER - PRINCIPAL ANALYST - PRINCIPAL ...   \n",
       "5        Data Engineer                                  GCP Data Engineer   \n",
       "9       Data Scientist                                  Data Scientist II   \n",
       "11       Data Engineer                                      Data Engineer   \n",
       "17      Data Scientist                             Data Science Team Lead   \n",
       "...                ...                                                ...   \n",
       "785673  Data Scientist                    Asset Management Data Scientist   \n",
       "785685    Data Analyst                                       Data Analyst   \n",
       "785692  Data Scientist               Data Scientist- Hybrid Work Location   \n",
       "785703    Data Analyst            Data Analyst - CRYPTOGRAPHY - Full-time   \n",
       "785705    Data Analyst          Expert Business Data Analyst - Now Hiring   \n",
       "\n",
       "                              job_location  \\\n",
       "3                          San Antonio, TX   \n",
       "5                                 Anywhere   \n",
       "9                                 Anywhere   \n",
       "11      Colorado Springs, CO   (+3 others)   \n",
       "17                              Laurel, MD   \n",
       "...                                    ...   \n",
       "785673                        New York, NY   \n",
       "785685                    Indianapolis, IN   \n",
       "785692                          Dayton, OH   \n",
       "785703                            Anywhere   \n",
       "785705                         Oakland, CA   \n",
       "\n",
       "                                                  job_via  \\\n",
       "3                                       via Diversity.com   \n",
       "5                                        via ZipRecruiter   \n",
       "9                                        via ZipRecruiter   \n",
       "11                                           via The Muse   \n",
       "17      via APL Careers - Johns Hopkins University App...   \n",
       "...                                                   ...   \n",
       "785673                                    via Trabajo.org   \n",
       "785685                                    via Trabajo.org   \n",
       "785692                                    via Ai-Jobs.net   \n",
       "785703                                       via Snagajob   \n",
       "785705                                       via Snagajob   \n",
       "\n",
       "               job_schedule_type  job_work_from_home  \\\n",
       "3                      Full-time               False   \n",
       "5       Contractor and Temp work                True   \n",
       "9                      Full-time                True   \n",
       "11                     Full-time               False   \n",
       "17                     Full-time               False   \n",
       "...                          ...                 ...   \n",
       "785673                 Full-time               False   \n",
       "785685                 Full-time               False   \n",
       "785692                 Full-time               False   \n",
       "785703                 Full-time                True   \n",
       "785705                 Full-time               False   \n",
       "\n",
       "                  search_location     job_posted_date  job_no_degree_mention  \\\n",
       "3            Texas, United States 2023-07-04 13:01:41                   True   \n",
       "5                         Georgia 2023-11-07 14:01:59                  False   \n",
       "9         New York, United States 2023-04-23 13:02:57                  False   \n",
       "11           Texas, United States 2023-11-03 13:06:51                  False   \n",
       "17                        Georgia 2023-06-13 13:25:17                  False   \n",
       "...                           ...                 ...                    ...   \n",
       "785673    New York, United States 2023-10-16 06:01:53                   True   \n",
       "785685    Illinois, United States 2023-07-16 06:01:27                   True   \n",
       "785692    Illinois, United States 2023-04-21 06:02:31                  False   \n",
       "785703       Texas, United States 2023-01-28 06:02:55                   True   \n",
       "785705  California, United States 2023-01-09 06:00:25                  False   \n",
       "\n",
       "        job_health_insurance    job_country salary_rate  salary_year_avg  \\\n",
       "3                      False  United States        None              NaN   \n",
       "5                      False  United States        None              NaN   \n",
       "9                      False  United States        None              NaN   \n",
       "11                      True  United States        None              NaN   \n",
       "17                      True  United States        None              NaN   \n",
       "...                      ...            ...         ...              ...   \n",
       "785673                 False  United States        None              NaN   \n",
       "785685                 False  United States        None              NaN   \n",
       "785692                  True  United States        year         157500.0   \n",
       "785703                 False  United States        None              NaN   \n",
       "785705                 False  United States        None              NaN   \n",
       "\n",
       "        salary_hour_avg                              company_name  \\\n",
       "3                   NaN              Southwest Research Institute   \n",
       "5                   NaN                           smart folks inc   \n",
       "9                   NaN                Radwell International, LLC   \n",
       "11                  NaN                                   Philips   \n",
       "17                  NaN  Johns Hopkins Applied Physics Laboratory   \n",
       "...                 ...                                       ...   \n",
       "785673              NaN                      JPMorgan Chase & Co.   \n",
       "785685              NaN                    Aara Technologies, Inc   \n",
       "785692              NaN                                    Tenet3   \n",
       "785703              NaN               Axelon Services Corporation   \n",
       "785705              NaN                          PG&E Corporation   \n",
       "\n",
       "                                               job_skills  \\\n",
       "3       [python, c++, java, matlab, aws, tensorflow, k...   \n",
       "5                                      [python, sql, gcp]   \n",
       "9       [sql, python, r, mongodb, mongodb, sql server,...   \n",
       "11                                         [python, qlik]   \n",
       "17                                       [go, apl, excel]   \n",
       "...                                                   ...   \n",
       "785673                                               None   \n",
       "785685                                       [sql, excel]   \n",
       "785692                                [python, matlab, r]   \n",
       "785703                                               None   \n",
       "785705                             [sql, python, tableau]   \n",
       "\n",
       "                                          job_type_skills  job_posted_month  \n",
       "3       {'cloud': ['aws'], 'libraries': ['tensorflow',...                 7  \n",
       "5       {'cloud': ['gcp'], 'programming': ['python', '...                11  \n",
       "9       {'analyst_tools': ['excel'], 'cloud': ['azure'...                 4  \n",
       "11      {'analyst_tools': ['qlik'], 'programming': ['p...                11  \n",
       "17      {'analyst_tools': ['excel'], 'programming': ['...                 6  \n",
       "...                                                   ...               ...  \n",
       "785673                                               None                10  \n",
       "785685  {'analyst_tools': ['excel'], 'programming': ['...                 7  \n",
       "785692         {'programming': ['python', 'matlab', 'r']}                 4  \n",
       "785703                                               None                 1  \n",
       "785705  {'analyst_tools': ['tableau'], 'programming': ...                 1  \n",
       "\n",
       "[161726 rows x 18 columns]"
      ]
     },
     "execution_count": 83,
     "metadata": {},
     "output_type": "execute_result"
    }
   ],
   "source": [
    "df_top_3"
   ]
  },
  {
   "cell_type": "code",
   "execution_count": null,
   "metadata": {},
   "outputs": [],
   "source": [
    "from scipy import stats\n",
    "import numpy as np\n",
    "top_3 = df['job_title_short'].value_counts().nlargest(3)\n",
    "df_top_3 = df1.loc[df1['job_title_short'].isin(top_3.index)]\n",
    "lower_bound, upper_bound = np.percentile(df_top_3['salary_year_avg'].dropna(), [1, 99])\n",
    "\n",
    "# Filter out extreme salary values (1st and 99th percentile)\n",
    "df_top_3_cleaned = df_top_3[\n",
    "    (df_top_3['salary_year_avg'] >= lower_bound) &\n",
    "    (df_top_3['salary_year_avg'] <= upper_bound)\n",
    "]"
   ]
  },
  {
   "cell_type": "markdown",
   "metadata": {},
   "source": [
    "## Mean, Mode, Median of yearly salary of top 3 Job Titles in US"
   ]
  },
  {
   "cell_type": "markdown",
   "metadata": {},
   "source": [
    "### Descriptive Statistics of Top 3 Job Titles in US"
   ]
  },
  {
   "cell_type": "code",
   "execution_count": 87,
   "metadata": {},
   "outputs": [
    {
     "data": {
      "application/vnd.microsoft.datawrangler.viewer.v0+json": {
       "columns": [
        {
         "name": "job_title_short",
         "rawType": "object",
         "type": "string"
        },
        {
         "name": "mean",
         "rawType": "float64",
         "type": "float"
        },
        {
         "name": "median",
         "rawType": "float64",
         "type": "float"
        },
        {
         "name": "mode",
         "rawType": "float64",
         "type": "float"
        }
       ],
       "conversionMethod": "pd.DataFrame",
       "ref": "eb0637c5-4116-49a7-b492-83a1bdef461f",
       "rows": [
        [
         "Data Analyst",
         "95149.10293799183",
         "90000.0",
         "90000.0"
        ],
        [
         "Data Engineer",
         "132139.1677920581",
         "125000.0",
         "125000.0"
        ],
        [
         "Data Scientist",
         "136986.0454861111",
         "129326.0",
         "90000.0"
        ]
       ],
       "shape": {
        "columns": 3,
        "rows": 3
       }
      },
      "text/html": [
       "<div>\n",
       "<style scoped>\n",
       "    .dataframe tbody tr th:only-of-type {\n",
       "        vertical-align: middle;\n",
       "    }\n",
       "\n",
       "    .dataframe tbody tr th {\n",
       "        vertical-align: top;\n",
       "    }\n",
       "\n",
       "    .dataframe thead th {\n",
       "        text-align: right;\n",
       "    }\n",
       "</style>\n",
       "<table border=\"1\" class=\"dataframe\">\n",
       "  <thead>\n",
       "    <tr style=\"text-align: right;\">\n",
       "      <th></th>\n",
       "      <th>mean</th>\n",
       "      <th>median</th>\n",
       "      <th>mode</th>\n",
       "    </tr>\n",
       "    <tr>\n",
       "      <th>job_title_short</th>\n",
       "      <th></th>\n",
       "      <th></th>\n",
       "      <th></th>\n",
       "    </tr>\n",
       "  </thead>\n",
       "  <tbody>\n",
       "    <tr>\n",
       "      <th>Data Analyst</th>\n",
       "      <td>95149.102938</td>\n",
       "      <td>90000.0</td>\n",
       "      <td>90000.0</td>\n",
       "    </tr>\n",
       "    <tr>\n",
       "      <th>Data Engineer</th>\n",
       "      <td>132139.167792</td>\n",
       "      <td>125000.0</td>\n",
       "      <td>125000.0</td>\n",
       "    </tr>\n",
       "    <tr>\n",
       "      <th>Data Scientist</th>\n",
       "      <td>136986.045486</td>\n",
       "      <td>129326.0</td>\n",
       "      <td>90000.0</td>\n",
       "    </tr>\n",
       "  </tbody>\n",
       "</table>\n",
       "</div>"
      ],
      "text/plain": [
       "                          mean    median      mode\n",
       "job_title_short                                   \n",
       "Data Analyst      95149.102938   90000.0   90000.0\n",
       "Data Engineer    132139.167792  125000.0  125000.0\n",
       "Data Scientist   136986.045486  129326.0   90000.0"
      ]
     },
     "execution_count": 87,
     "metadata": {},
     "output_type": "execute_result"
    }
   ],
   "source": [
    "group_by = df_top_3_cleaned.groupby('job_title_short')['salary_year_avg'].agg(['mean', 'median', mode])\n",
    "group_by"
   ]
  },
  {
   "cell_type": "markdown",
   "metadata": {},
   "source": [
    "### Average Yearly Salary by Top 3 Job Title in the US in 2023"
   ]
  },
  {
   "cell_type": "code",
   "execution_count": 88,
   "metadata": {},
   "outputs": [
    {
     "data": {
      "image/png": "[encoded data removed]",
      "text/plain": [
       "<Figure size 600x400 with 1 Axes>"
      ]
     },
     "metadata": {},
     "output_type": "display_data"
    }
   ],
   "source": [
    "top3_order = df_top_3.groupby('job_title_short')['salary_year_avg'].median().sort_values(ascending=False).index\n",
    "plt.figure(figsize=(6, 4))\n",
    "\n",
    "sns.boxplot(data=df_top_3_cleaned, x='salary_year_avg', y='job_title_short',hue='job_title_short', palette='rainbow', order =top3_order)\n",
    "sns.despine()\n",
    "plt.ylabel('')\n",
    "plt.xlabel('')\n",
    "plt.title('Box Plot of Average Year Salary by Top 3 Job Title')\n",
    "plt.xlim(40000, 300000)\n",
    "plt.tight_layout()\n",
    "plt.show()"
   ]
  },
  {
   "cell_type": "markdown",
   "metadata": {},
   "source": [
    "### Average Yearly Salary by Top 6 Job Title in the US in 2023"
   ]
  },
  {
   "cell_type": "code",
   "execution_count": 89,
   "metadata": {},
   "outputs": [
    {
     "name": "stderr",
     "output_type": "stream",
     "text": [
      "C:\\Temp\\ipykernel_21148\\1413935944.py:4: SettingWithCopyWarning: \n",
      "A value is trying to be set on a copy of a slice from a DataFrame\n",
      "\n",
      "See the caveats in the documentation: https://pandas.pydata.org/pandas-docs/stable/user_guide/indexing.html#returning-a-view-versus-a-copy\n",
      "  df_top6.dropna(subset=['salary_year_avg'], inplace=True)\n"
     ]
    },
    {
     "data": {
      "image/png": "[encoded data removed]",
      "text/plain": [
       "<Figure size 800x400 with 1 Axes>"
      ]
     },
     "metadata": {},
     "output_type": "display_data"
    }
   ],
   "source": [
    "top6 = df1['job_title_short'].value_counts().nlargest(6).index\n",
    "df_top6 = df1.loc[df1['job_title_short'].isin(top6)]\n",
    "\n",
    "df_top6.dropna(subset=['salary_year_avg'], inplace=True)\n",
    "\n",
    "top6_order = df_top6.groupby('job_title_short')['salary_year_avg'].median().sort_values(ascending=False).index\n",
    "\n",
    "plt.figure(figsize = (8,4))\n",
    "sns.boxplot(data= df_top6, x='salary_year_avg', y='job_title_short', hue = 'job_title_short', order=top6_order, palette='rainbow')\n",
    "sns.despine()\n",
    "plt.xlim(0,600000)\n",
    "plt.xlabel('')\n",
    "plt.ylabel('')\n",
    "plt.title('Average Yearly Salary by Top 6 Job Title in the US in 2023')\n",
    "plt.tight_layout()\n",
    "plt.show()"
   ]
  },
  {
   "cell_type": "markdown",
   "metadata": {},
   "source": [
    "## Top demanding skills of Data Analyst, Data Engineer, Data Scientist in US"
   ]
  },
  {
   "cell_type": "markdown",
   "metadata": {},
   "source": [
    "### Top Most Required Skills by Top 3 Job Title in the US"
   ]
  },
  {
   "cell_type": "code",
   "execution_count": 19,
   "metadata": {},
   "outputs": [],
   "source": [
    "df_top_3_exp = df_top_3.explode('job_skills')"
   ]
  },
  {
   "cell_type": "code",
   "execution_count": 20,
   "metadata": {},
   "outputs": [
    {
     "data": {
      "application/vnd.microsoft.datawrangler.viewer.v0+json": {
       "columns": [
        {
         "name": "job_skills",
         "rawType": "object",
         "type": "string"
        },
        {
         "name": "total",
         "rawType": "int64",
         "type": "integer"
        }
       ],
       "conversionMethod": "pd.DataFrame",
       "ref": "c637e8bf-e102-475f-b527-dec03042e2b2",
       "rows": [
        [
         "sql",
         "34452"
        ],
        [
         "excel",
         "27519"
        ],
        [
         "tableau",
         "19311"
        ],
        [
         "python",
         "18382"
        ],
        [
         "sas",
         "13200"
        ]
       ],
       "shape": {
        "columns": 1,
        "rows": 5
       }
      },
      "text/html": [
       "<div>\n",
       "<style scoped>\n",
       "    .dataframe tbody tr th:only-of-type {\n",
       "        vertical-align: middle;\n",
       "    }\n",
       "\n",
       "    .dataframe tbody tr th {\n",
       "        vertical-align: top;\n",
       "    }\n",
       "\n",
       "    .dataframe thead th {\n",
       "        text-align: right;\n",
       "    }\n",
       "</style>\n",
       "<table border=\"1\" class=\"dataframe\">\n",
       "  <thead>\n",
       "    <tr style=\"text-align: right;\">\n",
       "      <th></th>\n",
       "      <th>total</th>\n",
       "    </tr>\n",
       "    <tr>\n",
       "      <th>job_skills</th>\n",
       "      <th></th>\n",
       "    </tr>\n",
       "  </thead>\n",
       "  <tbody>\n",
       "    <tr>\n",
       "      <th>sql</th>\n",
       "      <td>34452</td>\n",
       "    </tr>\n",
       "    <tr>\n",
       "      <th>excel</th>\n",
       "      <td>27519</td>\n",
       "    </tr>\n",
       "    <tr>\n",
       "      <th>tableau</th>\n",
       "      <td>19311</td>\n",
       "    </tr>\n",
       "    <tr>\n",
       "      <th>python</th>\n",
       "      <td>18382</td>\n",
       "    </tr>\n",
       "    <tr>\n",
       "      <th>sas</th>\n",
       "      <td>13200</td>\n",
       "    </tr>\n",
       "  </tbody>\n",
       "</table>\n",
       "</div>"
      ],
      "text/plain": [
       "            total\n",
       "job_skills       \n",
       "sql         34452\n",
       "excel       27519\n",
       "tableau     19311\n",
       "python      18382\n",
       "sas         13200"
      ]
     },
     "execution_count": 20,
     "metadata": {},
     "output_type": "execute_result"
    }
   ],
   "source": [
    "df_top_3_exp.loc[df_top_3_exp['job_title_short'] == 'Data Analyst']['job_skills'].value_counts().nlargest(5).to_frame(name = 'total')"
   ]
  },
  {
   "cell_type": "code",
   "execution_count": 21,
   "metadata": {},
   "outputs": [],
   "source": [
    "DA_skill = df_top_3_exp.loc[df_top_3_exp['job_title_short'] == 'Data Analyst']['job_skills'].value_counts().nlargest(5).reset_index()\n",
    "DE_skill = df_top_3_exp.loc[df_top_3_exp['job_title_short'] == 'Data Engineer']['job_skills'].value_counts().nlargest(5).reset_index()\n",
    "DS_skill = df_top_3_exp.loc[df_top_3_exp['job_title_short'] == 'Data Scientist']['job_skills'].value_counts().nlargest(5).reset_index()"
   ]
  },
  {
   "cell_type": "code",
   "execution_count": 22,
   "metadata": {},
   "outputs": [
    {
     "data": {
      "text/plain": [
       "67816"
      ]
     },
     "execution_count": 22,
     "metadata": {},
     "output_type": "execute_result"
    }
   ],
   "source": [
    "len(df_top_3.loc[df_top_3['job_title_short'] == 'Data Analyst'])"
   ]
  },
  {
   "cell_type": "code",
   "execution_count": 23,
   "metadata": {},
   "outputs": [],
   "source": [
    "DA_skill['total'] = len(df_top_3.loc[df_top_3['job_title_short'] == 'Data Analyst'])\n",
    "DE_skill['total'] = len(df_top_3.loc[df_top_3['job_title_short'] == 'Data Engineer'])\n",
    "DS_skill['total'] = len(df_top_3.loc[df_top_3['job_title_short'] == 'Data Scientist'])"
   ]
  },
  {
   "cell_type": "code",
   "execution_count": 24,
   "metadata": {},
   "outputs": [
    {
     "data": {
      "application/vnd.microsoft.datawrangler.viewer.v0+json": {
       "columns": [
        {
         "name": "index",
         "rawType": "int64",
         "type": "integer"
        },
        {
         "name": "job_skills",
         "rawType": "object",
         "type": "string"
        },
        {
         "name": "count",
         "rawType": "int64",
         "type": "integer"
        },
        {
         "name": "total",
         "rawType": "int64",
         "type": "integer"
        }
       ],
       "conversionMethod": "pd.DataFrame",
       "ref": "f6ebe67d-861f-43a6-a388-bc961cee6554",
       "rows": [
        [
         "0",
         "sql",
         "34452",
         "67816"
        ],
        [
         "1",
         "excel",
         "27519",
         "67816"
        ],
        [
         "2",
         "tableau",
         "19311",
         "67816"
        ],
        [
         "3",
         "python",
         "18382",
         "67816"
        ],
        [
         "4",
         "sas",
         "13200",
         "67816"
        ]
       ],
       "shape": {
        "columns": 3,
        "rows": 5
       }
      },
      "text/html": [
       "<div>\n",
       "<style scoped>\n",
       "    .dataframe tbody tr th:only-of-type {\n",
       "        vertical-align: middle;\n",
       "    }\n",
       "\n",
       "    .dataframe tbody tr th {\n",
       "        vertical-align: top;\n",
       "    }\n",
       "\n",
       "    .dataframe thead th {\n",
       "        text-align: right;\n",
       "    }\n",
       "</style>\n",
       "<table border=\"1\" class=\"dataframe\">\n",
       "  <thead>\n",
       "    <tr style=\"text-align: right;\">\n",
       "      <th></th>\n",
       "      <th>job_skills</th>\n",
       "      <th>count</th>\n",
       "      <th>total</th>\n",
       "    </tr>\n",
       "  </thead>\n",
       "  <tbody>\n",
       "    <tr>\n",
       "      <th>0</th>\n",
       "      <td>sql</td>\n",
       "      <td>34452</td>\n",
       "      <td>67816</td>\n",
       "    </tr>\n",
       "    <tr>\n",
       "      <th>1</th>\n",
       "      <td>excel</td>\n",
       "      <td>27519</td>\n",
       "      <td>67816</td>\n",
       "    </tr>\n",
       "    <tr>\n",
       "      <th>2</th>\n",
       "      <td>tableau</td>\n",
       "      <td>19311</td>\n",
       "      <td>67816</td>\n",
       "    </tr>\n",
       "    <tr>\n",
       "      <th>3</th>\n",
       "      <td>python</td>\n",
       "      <td>18382</td>\n",
       "      <td>67816</td>\n",
       "    </tr>\n",
       "    <tr>\n",
       "      <th>4</th>\n",
       "      <td>sas</td>\n",
       "      <td>13200</td>\n",
       "      <td>67816</td>\n",
       "    </tr>\n",
       "  </tbody>\n",
       "</table>\n",
       "</div>"
      ],
      "text/plain": [
       "  job_skills  count  total\n",
       "0        sql  34452  67816\n",
       "1      excel  27519  67816\n",
       "2    tableau  19311  67816\n",
       "3     python  18382  67816\n",
       "4        sas  13200  67816"
      ]
     },
     "execution_count": 24,
     "metadata": {},
     "output_type": "execute_result"
    }
   ],
   "source": [
    "DA_skill"
   ]
  },
  {
   "cell_type": "code",
   "execution_count": 25,
   "metadata": {},
   "outputs": [
    {
     "data": {
      "application/vnd.microsoft.datawrangler.viewer.v0+json": {
       "columns": [
        {
         "name": "index",
         "rawType": "int64",
         "type": "integer"
        },
        {
         "name": "job_skills",
         "rawType": "object",
         "type": "string"
        },
        {
         "name": "count",
         "rawType": "int64",
         "type": "integer"
        },
        {
         "name": "total",
         "rawType": "int64",
         "type": "integer"
        }
       ],
       "conversionMethod": "pd.DataFrame",
       "ref": "562b9b6e-d95f-42c9-a835-96770d8ef8b7",
       "rows": [
        [
         "0",
         "sql",
         "23958",
         "35080"
        ],
        [
         "1",
         "python",
         "22762",
         "35080"
        ],
        [
         "2",
         "aws",
         "15018",
         "35080"
        ],
        [
         "3",
         "azure",
         "11321",
         "35080"
        ],
        [
         "4",
         "spark",
         "11242",
         "35080"
        ]
       ],
       "shape": {
        "columns": 3,
        "rows": 5
       }
      },
      "text/html": [
       "<div>\n",
       "<style scoped>\n",
       "    .dataframe tbody tr th:only-of-type {\n",
       "        vertical-align: middle;\n",
       "    }\n",
       "\n",
       "    .dataframe tbody tr th {\n",
       "        vertical-align: top;\n",
       "    }\n",
       "\n",
       "    .dataframe thead th {\n",
       "        text-align: right;\n",
       "    }\n",
       "</style>\n",
       "<table border=\"1\" class=\"dataframe\">\n",
       "  <thead>\n",
       "    <tr style=\"text-align: right;\">\n",
       "      <th></th>\n",
       "      <th>job_skills</th>\n",
       "      <th>count</th>\n",
       "      <th>total</th>\n",
       "    </tr>\n",
       "  </thead>\n",
       "  <tbody>\n",
       "    <tr>\n",
       "      <th>0</th>\n",
       "      <td>sql</td>\n",
       "      <td>23958</td>\n",
       "      <td>35080</td>\n",
       "    </tr>\n",
       "    <tr>\n",
       "      <th>1</th>\n",
       "      <td>python</td>\n",
       "      <td>22762</td>\n",
       "      <td>35080</td>\n",
       "    </tr>\n",
       "    <tr>\n",
       "      <th>2</th>\n",
       "      <td>aws</td>\n",
       "      <td>15018</td>\n",
       "      <td>35080</td>\n",
       "    </tr>\n",
       "    <tr>\n",
       "      <th>3</th>\n",
       "      <td>azure</td>\n",
       "      <td>11321</td>\n",
       "      <td>35080</td>\n",
       "    </tr>\n",
       "    <tr>\n",
       "      <th>4</th>\n",
       "      <td>spark</td>\n",
       "      <td>11242</td>\n",
       "      <td>35080</td>\n",
       "    </tr>\n",
       "  </tbody>\n",
       "</table>\n",
       "</div>"
      ],
      "text/plain": [
       "  job_skills  count  total\n",
       "0        sql  23958  35080\n",
       "1     python  22762  35080\n",
       "2        aws  15018  35080\n",
       "3      azure  11321  35080\n",
       "4      spark  11242  35080"
      ]
     },
     "execution_count": 25,
     "metadata": {},
     "output_type": "execute_result"
    }
   ],
   "source": [
    "DE_skill"
   ]
  },
  {
   "cell_type": "code",
   "execution_count": 26,
   "metadata": {},
   "outputs": [
    {
     "data": {
      "application/vnd.microsoft.datawrangler.viewer.v0+json": {
       "columns": [
        {
         "name": "index",
         "rawType": "int64",
         "type": "integer"
        },
        {
         "name": "job_skills",
         "rawType": "object",
         "type": "string"
        },
        {
         "name": "count",
         "rawType": "int64",
         "type": "integer"
        },
        {
         "name": "total",
         "rawType": "int64",
         "type": "integer"
        }
       ],
       "conversionMethod": "pd.DataFrame",
       "ref": "639c01d6-5c0c-4490-9c59-d4fbcf7ac396",
       "rows": [
        [
         "0",
         "python",
         "42379",
         "58830"
        ],
        [
         "1",
         "sql",
         "30034",
         "58830"
        ],
        [
         "2",
         "r",
         "26022",
         "58830"
        ],
        [
         "3",
         "sas",
         "14340",
         "58830"
        ],
        [
         "4",
         "tableau",
         "13859",
         "58830"
        ]
       ],
       "shape": {
        "columns": 3,
        "rows": 5
       }
      },
      "text/html": [
       "<div>\n",
       "<style scoped>\n",
       "    .dataframe tbody tr th:only-of-type {\n",
       "        vertical-align: middle;\n",
       "    }\n",
       "\n",
       "    .dataframe tbody tr th {\n",
       "        vertical-align: top;\n",
       "    }\n",
       "\n",
       "    .dataframe thead th {\n",
       "        text-align: right;\n",
       "    }\n",
       "</style>\n",
       "<table border=\"1\" class=\"dataframe\">\n",
       "  <thead>\n",
       "    <tr style=\"text-align: right;\">\n",
       "      <th></th>\n",
       "      <th>job_skills</th>\n",
       "      <th>count</th>\n",
       "      <th>total</th>\n",
       "    </tr>\n",
       "  </thead>\n",
       "  <tbody>\n",
       "    <tr>\n",
       "      <th>0</th>\n",
       "      <td>python</td>\n",
       "      <td>42379</td>\n",
       "      <td>58830</td>\n",
       "    </tr>\n",
       "    <tr>\n",
       "      <th>1</th>\n",
       "      <td>sql</td>\n",
       "      <td>30034</td>\n",
       "      <td>58830</td>\n",
       "    </tr>\n",
       "    <tr>\n",
       "      <th>2</th>\n",
       "      <td>r</td>\n",
       "      <td>26022</td>\n",
       "      <td>58830</td>\n",
       "    </tr>\n",
       "    <tr>\n",
       "      <th>3</th>\n",
       "      <td>sas</td>\n",
       "      <td>14340</td>\n",
       "      <td>58830</td>\n",
       "    </tr>\n",
       "    <tr>\n",
       "      <th>4</th>\n",
       "      <td>tableau</td>\n",
       "      <td>13859</td>\n",
       "      <td>58830</td>\n",
       "    </tr>\n",
       "  </tbody>\n",
       "</table>\n",
       "</div>"
      ],
      "text/plain": [
       "  job_skills  count  total\n",
       "0     python  42379  58830\n",
       "1        sql  30034  58830\n",
       "2          r  26022  58830\n",
       "3        sas  14340  58830\n",
       "4    tableau  13859  58830"
      ]
     },
     "execution_count": 26,
     "metadata": {},
     "output_type": "execute_result"
    }
   ],
   "source": [
    "DS_skill"
   ]
  },
  {
   "cell_type": "code",
   "execution_count": 27,
   "metadata": {},
   "outputs": [],
   "source": [
    "DA_skill['percentage'] = DA_skill['count'] / DA_skill['total'] * 100\n",
    "DE_skill['percentage'] = DE_skill['count'] / DE_skill['total'] * 100\n",
    "DS_skill['percentage'] = DS_skill['count'] / DS_skill['total'] * 100"
   ]
  },
  {
   "cell_type": "code",
   "execution_count": 28,
   "metadata": {},
   "outputs": [
    {
     "data": {
      "application/vnd.microsoft.datawrangler.viewer.v0+json": {
       "columns": [
        {
         "name": "index",
         "rawType": "int64",
         "type": "integer"
        },
        {
         "name": "job_skills",
         "rawType": "object",
         "type": "string"
        },
        {
         "name": "count",
         "rawType": "int64",
         "type": "integer"
        },
        {
         "name": "total",
         "rawType": "int64",
         "type": "integer"
        },
        {
         "name": "percentage",
         "rawType": "float64",
         "type": "float"
        }
       ],
       "conversionMethod": "pd.DataFrame",
       "ref": "cba1c9ac-e8fc-4424-9311-9b23d02139b3",
       "rows": [
        [
         "0",
         "sql",
         "34452",
         "67816",
         "50.80217057921435"
        ],
        [
         "1",
         "excel",
         "27519",
         "67816",
         "40.57891942904329"
        ],
        [
         "2",
         "tableau",
         "19311",
         "67816",
         "28.475580983838622"
        ],
        [
         "3",
         "python",
         "18382",
         "67816",
         "27.105697770437654"
        ],
        [
         "4",
         "sas",
         "13200",
         "67816",
         "19.464433172112773"
        ]
       ],
       "shape": {
        "columns": 4,
        "rows": 5
       }
      },
      "text/html": [
       "<div>\n",
       "<style scoped>\n",
       "    .dataframe tbody tr th:only-of-type {\n",
       "        vertical-align: middle;\n",
       "    }\n",
       "\n",
       "    .dataframe tbody tr th {\n",
       "        vertical-align: top;\n",
       "    }\n",
       "\n",
       "    .dataframe thead th {\n",
       "        text-align: right;\n",
       "    }\n",
       "</style>\n",
       "<table border=\"1\" class=\"dataframe\">\n",
       "  <thead>\n",
       "    <tr style=\"text-align: right;\">\n",
       "      <th></th>\n",
       "      <th>job_skills</th>\n",
       "      <th>count</th>\n",
       "      <th>total</th>\n",
       "      <th>percentage</th>\n",
       "    </tr>\n",
       "  </thead>\n",
       "  <tbody>\n",
       "    <tr>\n",
       "      <th>0</th>\n",
       "      <td>sql</td>\n",
       "      <td>34452</td>\n",
       "      <td>67816</td>\n",
       "      <td>50.802171</td>\n",
       "    </tr>\n",
       "    <tr>\n",
       "      <th>1</th>\n",
       "      <td>excel</td>\n",
       "      <td>27519</td>\n",
       "      <td>67816</td>\n",
       "      <td>40.578919</td>\n",
       "    </tr>\n",
       "    <tr>\n",
       "      <th>2</th>\n",
       "      <td>tableau</td>\n",
       "      <td>19311</td>\n",
       "      <td>67816</td>\n",
       "      <td>28.475581</td>\n",
       "    </tr>\n",
       "    <tr>\n",
       "      <th>3</th>\n",
       "      <td>python</td>\n",
       "      <td>18382</td>\n",
       "      <td>67816</td>\n",
       "      <td>27.105698</td>\n",
       "    </tr>\n",
       "    <tr>\n",
       "      <th>4</th>\n",
       "      <td>sas</td>\n",
       "      <td>13200</td>\n",
       "      <td>67816</td>\n",
       "      <td>19.464433</td>\n",
       "    </tr>\n",
       "  </tbody>\n",
       "</table>\n",
       "</div>"
      ],
      "text/plain": [
       "  job_skills  count  total  percentage\n",
       "0        sql  34452  67816   50.802171\n",
       "1      excel  27519  67816   40.578919\n",
       "2    tableau  19311  67816   28.475581\n",
       "3     python  18382  67816   27.105698\n",
       "4        sas  13200  67816   19.464433"
      ]
     },
     "execution_count": 28,
     "metadata": {},
     "output_type": "execute_result"
    }
   ],
   "source": [
    "DA_skill"
   ]
  },
  {
   "cell_type": "code",
   "execution_count": 90,
   "metadata": {},
   "outputs": [
    {
     "data": {
      "image/png": "[encoded data removed]",
      "text/plain": [
       "<Figure size 600x800 with 3 Axes>"
      ]
     },
     "metadata": {},
     "output_type": "display_data"
    }
   ],
   "source": [
    "plt.figure(figsize=(6, 8))\n",
    "\n",
    "# Data Analyst\n",
    "plt.subplot(3, 1, 1)\n",
    "sns.barplot(data = DA_skill, x = 'percentage', y= 'job_skills', hue='job_skills', palette='Blues_r', legend = False)\n",
    "sns.despine()\n",
    "plt.title('Data Analyst')\n",
    "plt.ylabel('')\n",
    "for index, value in enumerate(DA_skill['percentage']):\n",
    "    plt.text(value+1, index, f'{value:.1f}%', va='center')\n",
    "\n",
    "# Data Engineer\n",
    "plt.subplot(3, 1, 2)\n",
    "sns.barplot(data = DE_skill, x = 'percentage', y= 'job_skills', hue='job_skills', palette='Blues_r', legend = False)\n",
    "sns.despine()\n",
    "plt.title('Data Engineer')\n",
    "plt.ylabel('')\n",
    "for index, value in enumerate(DE_skill['percentage']):\n",
    "    plt.text(value+1, index, f'{value:.1f}%', va='center')\n",
    "\n",
    "# Data Scientist\n",
    "plt.subplot(3, 1, 3)\n",
    "sns.barplot(data = DS_skill, x = 'percentage', y= 'job_skills', hue='job_skills', palette='Blues_r', legend = False)\n",
    "sns.despine()\n",
    "plt.title('Data Scientist')\n",
    "plt.ylabel('')\n",
    "for index, value in enumerate(DS_skill['percentage']):\n",
    "    plt.text(value+1, index, f'{value:.1f}%', va='center')\n",
    "plt.suptitle('Top 5 Most Required Skills by Job Title in the US in 2023 (by %)')\n",
    "\n",
    "plt.tight_layout()\n",
    "plt.show()"
   ]
  },
  {
   "cell_type": "code",
   "execution_count": 93,
   "metadata": {},
   "outputs": [
    {
     "data": {
      "image/png": "[encoded data removed]",
      "text/plain": [
       "<Figure size 800x800 with 3 Axes>"
      ]
     },
     "metadata": {},
     "output_type": "display_data"
    }
   ],
   "source": [
    "plt.figure(figsize=(8, 8))\n",
    "# Data Analyst\n",
    "plt.subplot(3, 1, 1)\n",
    "sns.barplot(data = DA_skill, x = 'count', y= 'job_skills', hue='job_skills', palette='Blues_r', legend = False)\n",
    "sns.despine()\n",
    "plt.title('Data Analyst')\n",
    "plt.ylabel('')\n",
    "for index, value in enumerate(DA_skill['count']):\n",
    "    plt.text(value +5, index, f'{value}', va='center')\n",
    "\n",
    "# Data Engineer\n",
    "plt.subplot(3, 1, 2)\n",
    "sns.barplot(data = DE_skill, x = 'count', y= 'job_skills', hue='job_skills', palette='Blues_r', legend = False)\n",
    "sns.despine()\n",
    "plt.title('Data Engineer')\n",
    "plt.ylabel('')\n",
    "for index, value in enumerate(DE_skill['count']):\n",
    "    plt.text(value+2, index, f'{value}', va='center')\n",
    "\n",
    "# Data Scientist\n",
    "plt.subplot(3, 1, 3)\n",
    "sns.barplot(data = DS_skill, x = 'count', y= 'job_skills', hue='job_skills', palette='Blues_r', legend = False)\n",
    "sns.despine()\n",
    "plt.title('Data Scientist')\n",
    "plt.ylabel('')\n",
    "for index, value in enumerate(DS_skill['count']):\n",
    "    plt.text(value+2, index, f'{value}', va='center')\n",
    "plt.suptitle('Top 5 Most Required Skills by Job Title in the US in 2023 (By Quantity)')\n",
    "\n",
    "plt.tight_layout()\n",
    "plt.show()"
   ]
  },
  {
   "cell_type": "markdown",
   "metadata": {},
   "source": [
    "### Top Highest-paid Skills by Top 3 Job Titles in the US  "
   ]
  },
  {
   "cell_type": "markdown",
   "metadata": {},
   "source": [
    "## Skill Trend of Data Analysts in US "
   ]
  },
  {
   "cell_type": "code",
   "execution_count": 31,
   "metadata": {},
   "outputs": [],
   "source": [
    "df_DA_exp = df_top_3_exp.loc[df_top_3_exp['job_title_short'] == 'Data Analyst'].copy()"
   ]
  },
  {
   "cell_type": "code",
   "execution_count": 32,
   "metadata": {},
   "outputs": [
    {
     "data": {
      "application/vnd.microsoft.datawrangler.viewer.v0+json": {
       "columns": [
        {
         "name": "job_posted_month",
         "rawType": "object",
         "type": "unknown"
        },
        {
         "name": "sql",
         "rawType": "int64",
         "type": "integer"
        },
        {
         "name": "excel",
         "rawType": "int64",
         "type": "integer"
        },
        {
         "name": "tableau",
         "rawType": "int64",
         "type": "integer"
        },
        {
         "name": "python",
         "rawType": "int64",
         "type": "integer"
        },
        {
         "name": "sas",
         "rawType": "int64",
         "type": "integer"
        }
       ],
       "conversionMethod": "pd.DataFrame",
       "ref": "3fef3eb2-8dc6-4c77-8e9e-66cdcf7731e3",
       "rows": [
        [
         "1",
         "4601",
         "3592",
         "2488",
         "2254",
         "1832"
        ],
        [
         "2",
         "3168",
         "2587",
         "1676",
         "1618",
         "1212"
        ],
        [
         "3",
         "3226",
         "2661",
         "1804",
         "1683",
         "1238"
        ],
        [
         "4",
         "3220",
         "2549",
         "1789",
         "1679",
         "1302"
        ],
        [
         "5",
         "2581",
         "2118",
         "1432",
         "1349",
         "972"
        ],
        [
         "6",
         "2862",
         "2382",
         "1628",
         "1609",
         "984"
        ],
        [
         "7",
         "2609",
         "2118",
         "1533",
         "1438",
         "996"
        ],
        [
         "8",
         "3414",
         "2731",
         "1951",
         "2025",
         "1276"
        ],
        [
         "9",
         "2295",
         "1801",
         "1353",
         "1229",
         "856"
        ],
        [
         "10",
         "2574",
         "1922",
         "1429",
         "1373",
         "960"
        ],
        [
         "11",
         "2054",
         "1533",
         "1148",
         "1049",
         "792"
        ],
        [
         "12",
         "1848",
         "1525",
         "1080",
         "1076",
         "780"
        ]
       ],
       "shape": {
        "columns": 5,
        "rows": 12
       }
      },
      "text/html": [
       "<div>\n",
       "<style scoped>\n",
       "    .dataframe tbody tr th:only-of-type {\n",
       "        vertical-align: middle;\n",
       "    }\n",
       "\n",
       "    .dataframe tbody tr th {\n",
       "        vertical-align: top;\n",
       "    }\n",
       "\n",
       "    .dataframe thead th {\n",
       "        text-align: right;\n",
       "    }\n",
       "</style>\n",
       "<table border=\"1\" class=\"dataframe\">\n",
       "  <thead>\n",
       "    <tr style=\"text-align: right;\">\n",
       "      <th>job_skills</th>\n",
       "      <th>sql</th>\n",
       "      <th>excel</th>\n",
       "      <th>tableau</th>\n",
       "      <th>python</th>\n",
       "      <th>sas</th>\n",
       "    </tr>\n",
       "    <tr>\n",
       "      <th>job_posted_month</th>\n",
       "      <th></th>\n",
       "      <th></th>\n",
       "      <th></th>\n",
       "      <th></th>\n",
       "      <th></th>\n",
       "    </tr>\n",
       "  </thead>\n",
       "  <tbody>\n",
       "    <tr>\n",
       "      <th>1</th>\n",
       "      <td>4601</td>\n",
       "      <td>3592</td>\n",
       "      <td>2488</td>\n",
       "      <td>2254</td>\n",
       "      <td>1832</td>\n",
       "    </tr>\n",
       "    <tr>\n",
       "      <th>2</th>\n",
       "      <td>3168</td>\n",
       "      <td>2587</td>\n",
       "      <td>1676</td>\n",
       "      <td>1618</td>\n",
       "      <td>1212</td>\n",
       "    </tr>\n",
       "    <tr>\n",
       "      <th>3</th>\n",
       "      <td>3226</td>\n",
       "      <td>2661</td>\n",
       "      <td>1804</td>\n",
       "      <td>1683</td>\n",
       "      <td>1238</td>\n",
       "    </tr>\n",
       "    <tr>\n",
       "      <th>4</th>\n",
       "      <td>3220</td>\n",
       "      <td>2549</td>\n",
       "      <td>1789</td>\n",
       "      <td>1679</td>\n",
       "      <td>1302</td>\n",
       "    </tr>\n",
       "    <tr>\n",
       "      <th>5</th>\n",
       "      <td>2581</td>\n",
       "      <td>2118</td>\n",
       "      <td>1432</td>\n",
       "      <td>1349</td>\n",
       "      <td>972</td>\n",
       "    </tr>\n",
       "    <tr>\n",
       "      <th>6</th>\n",
       "      <td>2862</td>\n",
       "      <td>2382</td>\n",
       "      <td>1628</td>\n",
       "      <td>1609</td>\n",
       "      <td>984</td>\n",
       "    </tr>\n",
       "    <tr>\n",
       "      <th>7</th>\n",
       "      <td>2609</td>\n",
       "      <td>2118</td>\n",
       "      <td>1533</td>\n",
       "      <td>1438</td>\n",
       "      <td>996</td>\n",
       "    </tr>\n",
       "    <tr>\n",
       "      <th>8</th>\n",
       "      <td>3414</td>\n",
       "      <td>2731</td>\n",
       "      <td>1951</td>\n",
       "      <td>2025</td>\n",
       "      <td>1276</td>\n",
       "    </tr>\n",
       "    <tr>\n",
       "      <th>9</th>\n",
       "      <td>2295</td>\n",
       "      <td>1801</td>\n",
       "      <td>1353</td>\n",
       "      <td>1229</td>\n",
       "      <td>856</td>\n",
       "    </tr>\n",
       "    <tr>\n",
       "      <th>10</th>\n",
       "      <td>2574</td>\n",
       "      <td>1922</td>\n",
       "      <td>1429</td>\n",
       "      <td>1373</td>\n",
       "      <td>960</td>\n",
       "    </tr>\n",
       "    <tr>\n",
       "      <th>11</th>\n",
       "      <td>2054</td>\n",
       "      <td>1533</td>\n",
       "      <td>1148</td>\n",
       "      <td>1049</td>\n",
       "      <td>792</td>\n",
       "    </tr>\n",
       "    <tr>\n",
       "      <th>12</th>\n",
       "      <td>1848</td>\n",
       "      <td>1525</td>\n",
       "      <td>1080</td>\n",
       "      <td>1076</td>\n",
       "      <td>780</td>\n",
       "    </tr>\n",
       "  </tbody>\n",
       "</table>\n",
       "</div>"
      ],
      "text/plain": [
       "job_skills         sql  excel  tableau  python   sas\n",
       "job_posted_month                                    \n",
       "1                 4601   3592     2488    2254  1832\n",
       "2                 3168   2587     1676    1618  1212\n",
       "3                 3226   2661     1804    1683  1238\n",
       "4                 3220   2549     1789    1679  1302\n",
       "5                 2581   2118     1432    1349   972\n",
       "6                 2862   2382     1628    1609   984\n",
       "7                 2609   2118     1533    1438   996\n",
       "8                 3414   2731     1951    2025  1276\n",
       "9                 2295   1801     1353    1229   856\n",
       "10                2574   1922     1429    1373   960\n",
       "11                2054   1533     1148    1049   792\n",
       "12                1848   1525     1080    1076   780"
      ]
     },
     "execution_count": 32,
     "metadata": {},
     "output_type": "execute_result"
    }
   ],
   "source": [
    "df_DA_pivot = df_DA_exp.pivot_table(\n",
    "    index= 'job_skills',\n",
    "    columns= 'job_posted_month',\n",
    "    aggfunc= 'size',\n",
    "    fill_value = 0\n",
    ")\n",
    "df_DA_pivot['total'] = df_DA_pivot.sum(axis = 1)\n",
    "df_DA_pivot = df_DA_pivot.loc[df_DA_pivot['total'].nlargest(5).index]\n",
    "df_DA_pivot.drop(columns = 'total', inplace = True)\n",
    "df_DA_pivot = df_DA_pivot.T\n",
    "df_DA_pivot"
   ]
  },
  {
   "cell_type": "code",
   "execution_count": 33,
   "metadata": {},
   "outputs": [
    {
     "data": {
      "text/plain": [
       "<Axes: xlabel='job_posted_month'>"
      ]
     },
     "execution_count": 33,
     "metadata": {},
     "output_type": "execute_result"
    },
    {
     "data": {
      "image/png": "[encoded data removed]",
      "text/plain": [
       "<Figure size 640x480 with 1 Axes>"
      ]
     },
     "metadata": {},
     "output_type": "display_data"
    }
   ],
   "source": [
    "sns.lineplot(data = df_DA_pivot, dashes = False, palette = 'tab10')"
   ]
  },
  {
   "cell_type": "code",
   "execution_count": 34,
   "metadata": {},
   "outputs": [
    {
     "data": {
      "text/plain": [
       "job_posted_month\n",
       "1     8494\n",
       "8     6634\n",
       "3     6218\n",
       "2     6124\n",
       "4     6049\n",
       "6     5683\n",
       "10    5271\n",
       "7     5201\n",
       "5     4993\n",
       "9     4639\n",
       "11    4531\n",
       "12    3979\n",
       "Name: count, dtype: int64"
      ]
     },
     "execution_count": 34,
     "metadata": {},
     "output_type": "execute_result"
    }
   ],
   "source": [
    "df_DA_total = df_top_3.loc[df_top_3['job_title_short'] == 'Data Analyst']['job_posted_month'].value_counts()\n",
    "df_DA_total\n"
   ]
  },
  {
   "cell_type": "code",
   "execution_count": 35,
   "metadata": {},
   "outputs": [
    {
     "data": {
      "application/vnd.microsoft.datawrangler.viewer.v0+json": {
       "columns": [
        {
         "name": "job_posted_month",
         "rawType": "object",
         "type": "unknown"
        },
        {
         "name": "sql",
         "rawType": "float64",
         "type": "float"
        },
        {
         "name": "excel",
         "rawType": "float64",
         "type": "float"
        },
        {
         "name": "tableau",
         "rawType": "float64",
         "type": "float"
        },
        {
         "name": "python",
         "rawType": "float64",
         "type": "float"
        },
        {
         "name": "sas",
         "rawType": "float64",
         "type": "float"
        }
       ],
       "conversionMethod": "pd.DataFrame",
       "ref": "d027d59f-a2b0-4d44-9163-9c9dbd1c72ad",
       "rows": [
        [
         "1",
         "54.1676477513539",
         "42.28867435837061",
         "29.291264421944902",
         "26.5363786202025",
         "21.568165764068755"
        ],
        [
         "2",
         "51.73089483997387",
         "42.243631613324624",
         "27.367733507511428",
         "26.42064010450686",
         "19.79098628347485"
        ],
        [
         "3",
         "51.881633965905436",
         "42.79511096815696",
         "29.01254422643937",
         "27.06658089417819",
         "19.909938887101962"
        ],
        [
         "4",
         "53.2319391634981",
         "42.13919656141511",
         "29.575136386179533",
         "27.756653992395435",
         "21.52421887915358"
        ],
        [
         "5",
         "51.69236931704386",
         "42.4193871419988",
         "28.68015221309834",
         "27.017824954936913",
         "19.467254155818146"
        ],
        [
         "6",
         "50.36072496920641",
         "41.91448178778814",
         "28.64684145697695",
         "28.312510997712476",
         "17.314798521907445"
        ],
        [
         "7",
         "50.16343010959431",
         "40.722937896558356",
         "29.475100942126517",
         "27.648529129013653",
         "19.150163430109593"
        ],
        [
         "8",
         "51.4621646065722",
         "41.16671691287308",
         "29.409104612601748",
         "30.524570394935182",
         "19.23424781429002"
        ],
        [
         "9",
         "49.47186893727096",
         "38.823022203061",
         "29.165768484587193",
         "26.49277861608105",
         "18.452252640655313"
        ],
        [
         "10",
         "48.83323847467274",
         "36.46366913299184",
         "27.1106051982546",
         "26.048188199582622",
         "18.21286283437678"
        ],
        [
         "11",
         "45.33215625689693",
         "33.83359081880379",
         "25.336570293533434",
         "23.151622158463915",
         "17.479585080556166"
        ],
        [
         "12",
         "46.44383010806735",
         "38.32621261623524",
         "27.1424981151043",
         "27.041970344307614",
         "19.602915305353104"
        ]
       ],
       "shape": {
        "columns": 5,
        "rows": 12
       }
      },
      "text/html": [
       "<div>\n",
       "<style scoped>\n",
       "    .dataframe tbody tr th:only-of-type {\n",
       "        vertical-align: middle;\n",
       "    }\n",
       "\n",
       "    .dataframe tbody tr th {\n",
       "        vertical-align: top;\n",
       "    }\n",
       "\n",
       "    .dataframe thead th {\n",
       "        text-align: right;\n",
       "    }\n",
       "</style>\n",
       "<table border=\"1\" class=\"dataframe\">\n",
       "  <thead>\n",
       "    <tr style=\"text-align: right;\">\n",
       "      <th>job_skills</th>\n",
       "      <th>sql</th>\n",
       "      <th>excel</th>\n",
       "      <th>tableau</th>\n",
       "      <th>python</th>\n",
       "      <th>sas</th>\n",
       "    </tr>\n",
       "    <tr>\n",
       "      <th>job_posted_month</th>\n",
       "      <th></th>\n",
       "      <th></th>\n",
       "      <th></th>\n",
       "      <th></th>\n",
       "      <th></th>\n",
       "    </tr>\n",
       "  </thead>\n",
       "  <tbody>\n",
       "    <tr>\n",
       "      <th>1</th>\n",
       "      <td>54.167648</td>\n",
       "      <td>42.288674</td>\n",
       "      <td>29.291264</td>\n",
       "      <td>26.536379</td>\n",
       "      <td>21.568166</td>\n",
       "    </tr>\n",
       "    <tr>\n",
       "      <th>2</th>\n",
       "      <td>51.730895</td>\n",
       "      <td>42.243632</td>\n",
       "      <td>27.367734</td>\n",
       "      <td>26.420640</td>\n",
       "      <td>19.790986</td>\n",
       "    </tr>\n",
       "    <tr>\n",
       "      <th>3</th>\n",
       "      <td>51.881634</td>\n",
       "      <td>42.795111</td>\n",
       "      <td>29.012544</td>\n",
       "      <td>27.066581</td>\n",
       "      <td>19.909939</td>\n",
       "    </tr>\n",
       "    <tr>\n",
       "      <th>4</th>\n",
       "      <td>53.231939</td>\n",
       "      <td>42.139197</td>\n",
       "      <td>29.575136</td>\n",
       "      <td>27.756654</td>\n",
       "      <td>21.524219</td>\n",
       "    </tr>\n",
       "    <tr>\n",
       "      <th>5</th>\n",
       "      <td>51.692369</td>\n",
       "      <td>42.419387</td>\n",
       "      <td>28.680152</td>\n",
       "      <td>27.017825</td>\n",
       "      <td>19.467254</td>\n",
       "    </tr>\n",
       "    <tr>\n",
       "      <th>6</th>\n",
       "      <td>50.360725</td>\n",
       "      <td>41.914482</td>\n",
       "      <td>28.646841</td>\n",
       "      <td>28.312511</td>\n",
       "      <td>17.314799</td>\n",
       "    </tr>\n",
       "    <tr>\n",
       "      <th>7</th>\n",
       "      <td>50.163430</td>\n",
       "      <td>40.722938</td>\n",
       "      <td>29.475101</td>\n",
       "      <td>27.648529</td>\n",
       "      <td>19.150163</td>\n",
       "    </tr>\n",
       "    <tr>\n",
       "      <th>8</th>\n",
       "      <td>51.462165</td>\n",
       "      <td>41.166717</td>\n",
       "      <td>29.409105</td>\n",
       "      <td>30.524570</td>\n",
       "      <td>19.234248</td>\n",
       "    </tr>\n",
       "    <tr>\n",
       "      <th>9</th>\n",
       "      <td>49.471869</td>\n",
       "      <td>38.823022</td>\n",
       "      <td>29.165768</td>\n",
       "      <td>26.492779</td>\n",
       "      <td>18.452253</td>\n",
       "    </tr>\n",
       "    <tr>\n",
       "      <th>10</th>\n",
       "      <td>48.833238</td>\n",
       "      <td>36.463669</td>\n",
       "      <td>27.110605</td>\n",
       "      <td>26.048188</td>\n",
       "      <td>18.212863</td>\n",
       "    </tr>\n",
       "    <tr>\n",
       "      <th>11</th>\n",
       "      <td>45.332156</td>\n",
       "      <td>33.833591</td>\n",
       "      <td>25.336570</td>\n",
       "      <td>23.151622</td>\n",
       "      <td>17.479585</td>\n",
       "    </tr>\n",
       "    <tr>\n",
       "      <th>12</th>\n",
       "      <td>46.443830</td>\n",
       "      <td>38.326213</td>\n",
       "      <td>27.142498</td>\n",
       "      <td>27.041970</td>\n",
       "      <td>19.602915</td>\n",
       "    </tr>\n",
       "  </tbody>\n",
       "</table>\n",
       "</div>"
      ],
      "text/plain": [
       "job_skills              sql      excel    tableau     python        sas\n",
       "job_posted_month                                                       \n",
       "1                 54.167648  42.288674  29.291264  26.536379  21.568166\n",
       "2                 51.730895  42.243632  27.367734  26.420640  19.790986\n",
       "3                 51.881634  42.795111  29.012544  27.066581  19.909939\n",
       "4                 53.231939  42.139197  29.575136  27.756654  21.524219\n",
       "5                 51.692369  42.419387  28.680152  27.017825  19.467254\n",
       "6                 50.360725  41.914482  28.646841  28.312511  17.314799\n",
       "7                 50.163430  40.722938  29.475101  27.648529  19.150163\n",
       "8                 51.462165  41.166717  29.409105  30.524570  19.234248\n",
       "9                 49.471869  38.823022  29.165768  26.492779  18.452253\n",
       "10                48.833238  36.463669  27.110605  26.048188  18.212863\n",
       "11                45.332156  33.833591  25.336570  23.151622  17.479585\n",
       "12                46.443830  38.326213  27.142498  27.041970  19.602915"
      ]
     },
     "execution_count": 35,
     "metadata": {},
     "output_type": "execute_result"
    }
   ],
   "source": [
    "df_DA_pivot = df_DA_pivot.div(df_DA_total/100, axis = 0)\n",
    "df_DA_pivot"
   ]
  },
  {
   "cell_type": "code",
   "execution_count": 36,
   "metadata": {},
   "outputs": [],
   "source": [
    "import calendar\n",
    "\n",
    "# Assuming df_DA_pivot is already defined and contains month numbers as index\n",
    "\n",
    "# Create a mapping from month numbers to month names\n",
    "month_mapping = {i: calendar.month_abbr[i] for i in range(1, 13)}\n",
    "\n",
    "# Apply the mapping to the index of df_DA_pivot\n",
    "df_DA_pivot.index = df_DA_pivot.index.map(month_mapping)"
   ]
  },
  {
   "cell_type": "code",
   "execution_count": 37,
   "metadata": {},
   "outputs": [
    {
     "data": {
      "application/vnd.microsoft.datawrangler.viewer.v0+json": {
       "columns": [
        {
         "name": "job_posted_month",
         "rawType": "object",
         "type": "string"
        },
        {
         "name": "sql",
         "rawType": "float64",
         "type": "float"
        },
        {
         "name": "excel",
         "rawType": "float64",
         "type": "float"
        },
        {
         "name": "tableau",
         "rawType": "float64",
         "type": "float"
        },
        {
         "name": "python",
         "rawType": "float64",
         "type": "float"
        },
        {
         "name": "sas",
         "rawType": "float64",
         "type": "float"
        }
       ],
       "conversionMethod": "pd.DataFrame",
       "ref": "1c25a384-e9a5-412a-9370-c67d3002b2e0",
       "rows": [
        [
         "Jan",
         "54.1676477513539",
         "42.28867435837061",
         "29.291264421944902",
         "26.5363786202025",
         "21.568165764068755"
        ],
        [
         "Feb",
         "51.73089483997387",
         "42.243631613324624",
         "27.367733507511428",
         "26.42064010450686",
         "19.79098628347485"
        ],
        [
         "Mar",
         "51.881633965905436",
         "42.79511096815696",
         "29.01254422643937",
         "27.06658089417819",
         "19.909938887101962"
        ],
        [
         "Apr",
         "53.2319391634981",
         "42.13919656141511",
         "29.575136386179533",
         "27.756653992395435",
         "21.52421887915358"
        ],
        [
         "May",
         "51.69236931704386",
         "42.4193871419988",
         "28.68015221309834",
         "27.017824954936913",
         "19.467254155818146"
        ],
        [
         "Jun",
         "50.36072496920641",
         "41.91448178778814",
         "28.64684145697695",
         "28.312510997712476",
         "17.314798521907445"
        ],
        [
         "Jul",
         "50.16343010959431",
         "40.722937896558356",
         "29.475100942126517",
         "27.648529129013653",
         "19.150163430109593"
        ],
        [
         "Aug",
         "51.4621646065722",
         "41.16671691287308",
         "29.409104612601748",
         "30.524570394935182",
         "19.23424781429002"
        ],
        [
         "Sep",
         "49.47186893727096",
         "38.823022203061",
         "29.165768484587193",
         "26.49277861608105",
         "18.452252640655313"
        ],
        [
         "Oct",
         "48.83323847467274",
         "36.46366913299184",
         "27.1106051982546",
         "26.048188199582622",
         "18.21286283437678"
        ],
        [
         "Nov",
         "45.33215625689693",
         "33.83359081880379",
         "25.336570293533434",
         "23.151622158463915",
         "17.479585080556166"
        ],
        [
         "Dec",
         "46.44383010806735",
         "38.32621261623524",
         "27.1424981151043",
         "27.041970344307614",
         "19.602915305353104"
        ]
       ],
       "shape": {
        "columns": 5,
        "rows": 12
       }
      },
      "text/html": [
       "<div>\n",
       "<style scoped>\n",
       "    .dataframe tbody tr th:only-of-type {\n",
       "        vertical-align: middle;\n",
       "    }\n",
       "\n",
       "    .dataframe tbody tr th {\n",
       "        vertical-align: top;\n",
       "    }\n",
       "\n",
       "    .dataframe thead th {\n",
       "        text-align: right;\n",
       "    }\n",
       "</style>\n",
       "<table border=\"1\" class=\"dataframe\">\n",
       "  <thead>\n",
       "    <tr style=\"text-align: right;\">\n",
       "      <th>job_skills</th>\n",
       "      <th>sql</th>\n",
       "      <th>excel</th>\n",
       "      <th>tableau</th>\n",
       "      <th>python</th>\n",
       "      <th>sas</th>\n",
       "    </tr>\n",
       "    <tr>\n",
       "      <th>job_posted_month</th>\n",
       "      <th></th>\n",
       "      <th></th>\n",
       "      <th></th>\n",
       "      <th></th>\n",
       "      <th></th>\n",
       "    </tr>\n",
       "  </thead>\n",
       "  <tbody>\n",
       "    <tr>\n",
       "      <th>Jan</th>\n",
       "      <td>54.167648</td>\n",
       "      <td>42.288674</td>\n",
       "      <td>29.291264</td>\n",
       "      <td>26.536379</td>\n",
       "      <td>21.568166</td>\n",
       "    </tr>\n",
       "    <tr>\n",
       "      <th>Feb</th>\n",
       "      <td>51.730895</td>\n",
       "      <td>42.243632</td>\n",
       "      <td>27.367734</td>\n",
       "      <td>26.420640</td>\n",
       "      <td>19.790986</td>\n",
       "    </tr>\n",
       "    <tr>\n",
       "      <th>Mar</th>\n",
       "      <td>51.881634</td>\n",
       "      <td>42.795111</td>\n",
       "      <td>29.012544</td>\n",
       "      <td>27.066581</td>\n",
       "      <td>19.909939</td>\n",
       "    </tr>\n",
       "    <tr>\n",
       "      <th>Apr</th>\n",
       "      <td>53.231939</td>\n",
       "      <td>42.139197</td>\n",
       "      <td>29.575136</td>\n",
       "      <td>27.756654</td>\n",
       "      <td>21.524219</td>\n",
       "    </tr>\n",
       "    <tr>\n",
       "      <th>May</th>\n",
       "      <td>51.692369</td>\n",
       "      <td>42.419387</td>\n",
       "      <td>28.680152</td>\n",
       "      <td>27.017825</td>\n",
       "      <td>19.467254</td>\n",
       "    </tr>\n",
       "    <tr>\n",
       "      <th>Jun</th>\n",
       "      <td>50.360725</td>\n",
       "      <td>41.914482</td>\n",
       "      <td>28.646841</td>\n",
       "      <td>28.312511</td>\n",
       "      <td>17.314799</td>\n",
       "    </tr>\n",
       "    <tr>\n",
       "      <th>Jul</th>\n",
       "      <td>50.163430</td>\n",
       "      <td>40.722938</td>\n",
       "      <td>29.475101</td>\n",
       "      <td>27.648529</td>\n",
       "      <td>19.150163</td>\n",
       "    </tr>\n",
       "    <tr>\n",
       "      <th>Aug</th>\n",
       "      <td>51.462165</td>\n",
       "      <td>41.166717</td>\n",
       "      <td>29.409105</td>\n",
       "      <td>30.524570</td>\n",
       "      <td>19.234248</td>\n",
       "    </tr>\n",
       "    <tr>\n",
       "      <th>Sep</th>\n",
       "      <td>49.471869</td>\n",
       "      <td>38.823022</td>\n",
       "      <td>29.165768</td>\n",
       "      <td>26.492779</td>\n",
       "      <td>18.452253</td>\n",
       "    </tr>\n",
       "    <tr>\n",
       "      <th>Oct</th>\n",
       "      <td>48.833238</td>\n",
       "      <td>36.463669</td>\n",
       "      <td>27.110605</td>\n",
       "      <td>26.048188</td>\n",
       "      <td>18.212863</td>\n",
       "    </tr>\n",
       "    <tr>\n",
       "      <th>Nov</th>\n",
       "      <td>45.332156</td>\n",
       "      <td>33.833591</td>\n",
       "      <td>25.336570</td>\n",
       "      <td>23.151622</td>\n",
       "      <td>17.479585</td>\n",
       "    </tr>\n",
       "    <tr>\n",
       "      <th>Dec</th>\n",
       "      <td>46.443830</td>\n",
       "      <td>38.326213</td>\n",
       "      <td>27.142498</td>\n",
       "      <td>27.041970</td>\n",
       "      <td>19.602915</td>\n",
       "    </tr>\n",
       "  </tbody>\n",
       "</table>\n",
       "</div>"
      ],
      "text/plain": [
       "job_skills              sql      excel    tableau     python        sas\n",
       "job_posted_month                                                       \n",
       "Jan               54.167648  42.288674  29.291264  26.536379  21.568166\n",
       "Feb               51.730895  42.243632  27.367734  26.420640  19.790986\n",
       "Mar               51.881634  42.795111  29.012544  27.066581  19.909939\n",
       "Apr               53.231939  42.139197  29.575136  27.756654  21.524219\n",
       "May               51.692369  42.419387  28.680152  27.017825  19.467254\n",
       "Jun               50.360725  41.914482  28.646841  28.312511  17.314799\n",
       "Jul               50.163430  40.722938  29.475101  27.648529  19.150163\n",
       "Aug               51.462165  41.166717  29.409105  30.524570  19.234248\n",
       "Sep               49.471869  38.823022  29.165768  26.492779  18.452253\n",
       "Oct               48.833238  36.463669  27.110605  26.048188  18.212863\n",
       "Nov               45.332156  33.833591  25.336570  23.151622  17.479585\n",
       "Dec               46.443830  38.326213  27.142498  27.041970  19.602915"
      ]
     },
     "execution_count": 37,
     "metadata": {},
     "output_type": "execute_result"
    }
   ],
   "source": [
    "df_DA_pivot"
   ]
  },
  {
   "cell_type": "code",
   "execution_count": 38,
   "metadata": {},
   "outputs": [
    {
     "data": {
      "image/png": "[encoded data removed]",
      "text/plain": [
       "<Figure size 640x480 with 1 Axes>"
      ]
     },
     "metadata": {},
     "output_type": "display_data"
    }
   ],
   "source": [
    "sns.lineplot(data = df_DA_pivot, legend = False, dashes = False, marker = 'o', palette = 'rainbow')\n",
    "sns.despine()\n",
    "plt.xlabel('')\n",
    "plt.ylabel('%')\n",
    "plt.title('Top 5 Most Demanding Skills by Data Analyst in the US in 2023')\n",
    "# Annotate each line at the last data point\n",
    "used_positions = set()\n",
    "\n",
    "used_positions = set()\n",
    "alignment = ['left', 'right']  # Alternating alignment\n",
    "\n",
    "used_positions = set()\n",
    "\n",
    "for i, column in enumerate(df_DA_pivot.columns):\n",
    "    last_value = df_DA_pivot[column].iloc[-1]  # Last y-value\n",
    "    last_x = df_DA_pivot.index[-1]  # Last x-value (month)\n",
    "\n",
    "    # Adjust position if label would overlap\n",
    "    offset = 0\n",
    "    while (last_value + offset) in used_positions:\n",
    "        offset += 0.8  # Shift up slightly\n",
    "\n",
    "    used_positions.add(last_value + offset)\n",
    "\n",
    "    # Alternate between placing the label at the end of November and December\n",
    "    if i % 2 == 0:\n",
    "        plt.text(df_DA_pivot.index[-2], last_value + offset, column, fontsize=10, verticalalignment='center', horizontalalignment='right')\n",
    "    else:\n",
    "        plt.text(last_x, last_value + offset, column, fontsize=10, verticalalignment='center', horizontalalignment='left')\n",
    "plt.show()"
   ]
  },
  {
   "cell_type": "code",
   "execution_count": null,
   "metadata": {},
   "outputs": [],
   "source": []
  },
  {
   "cell_type": "code",
   "execution_count": 47,
   "metadata": {},
   "outputs": [],
   "source": [
    "top6 = df1['job_title_short'].value_counts().nlargest(6).index\n",
    "df_top6 = df1.loc[df1['job_title_short'].isin(top6)]"
   ]
  },
  {
   "cell_type": "code",
   "execution_count": 45,
   "metadata": {},
   "outputs": [
    {
     "name": "stderr",
     "output_type": "stream",
     "text": [
      "C:\\Temp\\ipykernel_21148\\1240749651.py:1: SettingWithCopyWarning: \n",
      "A value is trying to be set on a copy of a slice from a DataFrame\n",
      "\n",
      "See the caveats in the documentation: https://pandas.pydata.org/pandas-docs/stable/user_guide/indexing.html#returning-a-view-versus-a-copy\n",
      "  df_top6.dropna(subset=['salary_year_avg'], inplace=True)\n"
     ]
    }
   ],
   "source": [
    "df_top6.dropna(subset=['salary_year_avg'], inplace=True)"
   ]
  },
  {
   "cell_type": "code",
   "execution_count": 60,
   "metadata": {},
   "outputs": [],
   "source": [
    "top6_order = df_top6.groupby('job_title_short')['salary_year_avg'].median().sort_values(ascending=False).index"
   ]
  },
  {
   "cell_type": "code",
   "execution_count": null,
   "metadata": {},
   "outputs": [
    {
     "data": {
      "image/png": "[encoded data removed]",
      "text/plain": [
       "<Figure size 800x400 with 1 Axes>"
      ]
     },
     "metadata": {},
     "output_type": "display_data"
    }
   ],
   "source": [
    "plt.figure(figsize = (8,4))\n",
    "sns.boxplot(data= df_top6, x='salary_year_avg', y='job_title_short', hue = 'job_title_short', order=top6_order, palette='rainbow')\n",
    "sns.despine()\n",
    "plt.xlim(0,600000)\n",
    "plt.xlabel('')\n",
    "plt.ylabel('')\n",
    "plt.title('Average Yearly Salary by Top 6 Job Title in the US in 2023')\n",
    "plt.tight_layout()\n",
    "plt.show()"
   ]
  }
 ],
 "metadata": {
  "kernelspec": {
   "display_name": "base",
   "language": "python",
   "name": "python3"
  },
  "language_info": {
   "codemirror_mode": {
    "name": "ipython",
    "version": 3
   },
   "file_extension": ".py",
   "mimetype": "text/x-python",
   "name": "python",
   "nbconvert_exporter": "python",
   "pygments_lexer": "ipython3",
   "version": "3.12.7"
  }
 },
 "nbformat": 4,
 "nbformat_minor": 2
}
